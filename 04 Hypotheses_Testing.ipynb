{
 "cells": [
  {
   "cell_type": "code",
   "execution_count": 2,
   "id": "857d15d1-b3b2-4dc4-a35e-7a4a350fb65f",
   "metadata": {},
   "outputs": [
    {
     "name": "stdout",
     "output_type": "stream",
     "text": [
      "Collecting tmdbsimple\n",
      "  Obtaining dependency information for tmdbsimple from https://files.pythonhosted.org/packages/6c/dd/ade05d202db728b23e54aa0959622d090776023917e7308c1b2469a07b76/tmdbsimple-2.9.1-py3-none-any.whl.metadata\n",
      "  Downloading tmdbsimple-2.9.1-py3-none-any.whl.metadata (6.9 kB)\n",
      "Requirement already satisfied: requests in c:\\users\\rovidicus\\anaconda3\\envs\\dojo-env\\lib\\site-packages (from tmdbsimple) (2.29.0)\n",
      "Requirement already satisfied: charset-normalizer<4,>=2 in c:\\users\\rovidicus\\anaconda3\\envs\\dojo-env\\lib\\site-packages (from requests->tmdbsimple) (2.0.4)\n",
      "Requirement already satisfied: idna<4,>=2.5 in c:\\users\\rovidicus\\anaconda3\\envs\\dojo-env\\lib\\site-packages (from requests->tmdbsimple) (3.4)\n",
      "Requirement already satisfied: urllib3<1.27,>=1.21.1 in c:\\users\\rovidicus\\anaconda3\\envs\\dojo-env\\lib\\site-packages (from requests->tmdbsimple) (1.26.15)\n",
      "Requirement already satisfied: certifi>=2017.4.17 in c:\\users\\rovidicus\\anaconda3\\envs\\dojo-env\\lib\\site-packages (from requests->tmdbsimple) (2024.2.2)\n",
      "Using cached tmdbsimple-2.9.1-py3-none-any.whl (38 kB)\n",
      "Installing collected packages: tmdbsimple\n",
      "Successfully installed tmdbsimple-2.9.1\n",
      "Note: you may need to restart the kernel to use updated packages.\n"
     ]
    }
   ],
   "source": [
    "pip install tmdbsimple"
   ]
  },
  {
   "cell_type": "code",
   "execution_count": 3,
   "id": "b10e98d1-fb0e-440c-8e25-ea08878cc197",
   "metadata": {},
   "outputs": [],
   "source": [
    "# Necessary imports\n",
    "import pandas as pd\n",
    "import seaborn as sns\n",
    "import numpy as np\n",
    "# We want all columns displayed, setting output to 50 to be safe\n",
    "pd.set_option('display.max_columns',100)\n",
    "import os, time, json\n",
    "import tmdbsimple as tmdb\n",
    "from tqdm.notebook import tqdm_notebook"
   ]
  },
  {
   "cell_type": "code",
   "execution_count": 4,
   "id": "48795ec5-1e15-474b-a8f7-5e7a882be500",
   "metadata": {},
   "outputs": [
    {
     "data": {
      "text/plain": [
       "dict_keys(['API Key', 'Access Token'])"
      ]
     },
     "execution_count": 4,
     "metadata": {},
     "output_type": "execute_result"
    }
   ],
   "source": [
    "with open('/Users/Rovidicus/.secret/tmdb_api.json','r') as f:\n",
    "    login=json.load(f)\n",
    "login.keys()"
   ]
  },
  {
   "cell_type": "code",
   "execution_count": 5,
   "id": "6db7070d-2add-4791-9223-db73201a66a4",
   "metadata": {},
   "outputs": [],
   "source": [
    "import tmdbsimple as tmdb\n",
    "tmdb.API_KEY = login['API Key']"
   ]
  },
  {
   "cell_type": "code",
   "execution_count": 6,
   "id": "cd0b1d75-9fe8-4174-b2b0-7d4e5aa7cee2",
   "metadata": {},
   "outputs": [
    {
     "data": {
      "text/html": [
       "<div>\n",
       "<style scoped>\n",
       "    .dataframe tbody tr th:only-of-type {\n",
       "        vertical-align: middle;\n",
       "    }\n",
       "\n",
       "    .dataframe tbody tr th {\n",
       "        vertical-align: top;\n",
       "    }\n",
       "\n",
       "    .dataframe thead th {\n",
       "        text-align: right;\n",
       "    }\n",
       "</style>\n",
       "<table border=\"1\" class=\"dataframe\">\n",
       "  <thead>\n",
       "    <tr style=\"text-align: right;\">\n",
       "      <th></th>\n",
       "      <th>tconst</th>\n",
       "      <th>titleType</th>\n",
       "      <th>primaryTitle</th>\n",
       "      <th>originalTitle</th>\n",
       "      <th>isAdult</th>\n",
       "      <th>startYear</th>\n",
       "      <th>endYear</th>\n",
       "      <th>runtimeMinutes</th>\n",
       "      <th>genres</th>\n",
       "    </tr>\n",
       "  </thead>\n",
       "  <tbody>\n",
       "    <tr>\n",
       "      <th>0</th>\n",
       "      <td>tt0035423</td>\n",
       "      <td>movie</td>\n",
       "      <td>Kate &amp; Leopold</td>\n",
       "      <td>Kate &amp; Leopold</td>\n",
       "      <td>0</td>\n",
       "      <td>2001.0</td>\n",
       "      <td>NaN</td>\n",
       "      <td>118</td>\n",
       "      <td>Comedy,Fantasy,Romance</td>\n",
       "    </tr>\n",
       "    <tr>\n",
       "      <th>1</th>\n",
       "      <td>tt0062336</td>\n",
       "      <td>movie</td>\n",
       "      <td>The Tango of the Widower and Its Distorting Mi...</td>\n",
       "      <td>El tango del viudo y su espejo deformante</td>\n",
       "      <td>0</td>\n",
       "      <td>2020.0</td>\n",
       "      <td>NaN</td>\n",
       "      <td>70</td>\n",
       "      <td>Drama</td>\n",
       "    </tr>\n",
       "    <tr>\n",
       "      <th>2</th>\n",
       "      <td>tt0069049</td>\n",
       "      <td>movie</td>\n",
       "      <td>The Other Side of the Wind</td>\n",
       "      <td>The Other Side of the Wind</td>\n",
       "      <td>0</td>\n",
       "      <td>2018.0</td>\n",
       "      <td>NaN</td>\n",
       "      <td>122</td>\n",
       "      <td>Drama</td>\n",
       "    </tr>\n",
       "    <tr>\n",
       "      <th>3</th>\n",
       "      <td>tt0088751</td>\n",
       "      <td>movie</td>\n",
       "      <td>The Naked Monster</td>\n",
       "      <td>The Naked Monster</td>\n",
       "      <td>0</td>\n",
       "      <td>2005.0</td>\n",
       "      <td>NaN</td>\n",
       "      <td>100</td>\n",
       "      <td>Comedy,Horror,Sci-Fi</td>\n",
       "    </tr>\n",
       "    <tr>\n",
       "      <th>4</th>\n",
       "      <td>tt0096056</td>\n",
       "      <td>movie</td>\n",
       "      <td>Crime and Punishment</td>\n",
       "      <td>Crime and Punishment</td>\n",
       "      <td>0</td>\n",
       "      <td>2002.0</td>\n",
       "      <td>NaN</td>\n",
       "      <td>126</td>\n",
       "      <td>Drama</td>\n",
       "    </tr>\n",
       "  </tbody>\n",
       "</table>\n",
       "</div>"
      ],
      "text/plain": [
       "      tconst titleType                                       primaryTitle  \\\n",
       "0  tt0035423     movie                                     Kate & Leopold   \n",
       "1  tt0062336     movie  The Tango of the Widower and Its Distorting Mi...   \n",
       "2  tt0069049     movie                         The Other Side of the Wind   \n",
       "3  tt0088751     movie                                  The Naked Monster   \n",
       "4  tt0096056     movie                               Crime and Punishment   \n",
       "\n",
       "                               originalTitle  isAdult  startYear  endYear  \\\n",
       "0                             Kate & Leopold        0     2001.0      NaN   \n",
       "1  El tango del viudo y su espejo deformante        0     2020.0      NaN   \n",
       "2                 The Other Side of the Wind        0     2018.0      NaN   \n",
       "3                          The Naked Monster        0     2005.0      NaN   \n",
       "4                       Crime and Punishment        0     2002.0      NaN   \n",
       "\n",
       "   runtimeMinutes                  genres  \n",
       "0             118  Comedy,Fantasy,Romance  \n",
       "1              70                   Drama  \n",
       "2             122                   Drama  \n",
       "3             100    Comedy,Horror,Sci-Fi  \n",
       "4             126                   Drama  "
      ]
     },
     "execution_count": 6,
     "metadata": {},
     "output_type": "execute_result"
    }
   ],
   "source": [
    "basics=pd.read_csv('Data/basics.csv')\n",
    "basics.head()"
   ]
  },
  {
   "cell_type": "code",
   "execution_count": 7,
   "id": "de703a24-c2bb-4feb-ab11-06a7061891ef",
   "metadata": {},
   "outputs": [
    {
     "data": {
      "text/plain": [
       "['.ipynb_checkpoints',\n",
       " 'final_tmdb_data_2001.csv.gz',\n",
       " 'final_tmdb_data_2002.csv.gz',\n",
       " 'final_tmdb_data_2010.csv.gz',\n",
       " 'final_tmdb_data_2020.csv.gz',\n",
       " 'final_tmdb_data_2021.csv.gz',\n",
       " 'final_tmdb_data_2022.csv.gz',\n",
       " 'tmdb_api_results_2010.json',\n",
       " 'tmdb_api_results_2020.json',\n",
       " 'tmdb_api_results_2021.json',\n",
       " 'tmdb_api_results_2022.json',\n",
       " 'tmdb_api_results_[2001, 2002].json',\n",
       " 'tmdb_results_combined.csv.gz',\n",
       " 'tmdb_results_postcovid.csv.gz']"
      ]
     },
     "execution_count": 7,
     "metadata": {},
     "output_type": "execute_result"
    }
   ],
   "source": [
    "FOLDER=\"Data/Hypothesis_Testing/\"\n",
    "os.makedirs(FOLDER, exist_ok=True)\n",
    "os.listdir(FOLDER)"
   ]
  },
  {
   "cell_type": "code",
   "execution_count": 8,
   "id": "14d8e83e-3f88-485d-89f3-da5f49f93d5b",
   "metadata": {},
   "outputs": [],
   "source": [
    "def get_movie_with_rating(movie_id):\n",
    "    movie = tmdb.Movies(movie_id)\n",
    "    \n",
    "    movie_info = movie.info()\n",
    "    releases = movie.releases()\n",
    "    \n",
    "    for c in releases['countries']:\n",
    "        if c['iso_3166_1' ] =='US':\n",
    "            movie_info['certification'] = c['certification']\n",
    "    return movie_info\n",
    "\n",
    "\n",
    "def write_json(new_data, filename): \n",
    "    \"\"\"Appends a list of records (new_data) to a json file (filename). \n",
    "    Adapted from: https://www.geeksforgeeks.org/append-to-json-file-using-python/\"\"\"  \n",
    "    \n",
    "    with open(filename,'r+') as file:\n",
    "        file_data = json.load(file)\n",
    "        if (type(new_data) == list) & (type(file_data) == list):\n",
    "            file_data.extend(new_data)\n",
    "        else:\n",
    "             file_data.append(new_data)\n",
    "        file.seek(0)\n",
    "        json.dump(file_data, file)"
   ]
  },
  {
   "cell_type": "code",
   "execution_count": 9,
   "id": "e0b8771e-ddcc-4f9d-94b7-6fb9df7bf2cd",
   "metadata": {},
   "outputs": [],
   "source": [
    "# We will retreive movie data on years from the pandemic to present\n",
    "YEARS_TO_GET=list(range(2020, 2023))"
   ]
  },
  {
   "cell_type": "code",
   "execution_count": 11,
   "id": "96f33468-014a-4c8a-b42a-8cb9cb032cab",
   "metadata": {},
   "outputs": [
    {
     "data": {
      "application/vnd.jupyter.widget-view+json": {
       "model_id": "816d31c3226c47e28827749f03baca6f",
       "version_major": 2,
       "version_minor": 0
      },
      "text/plain": [
       "YEARS:   0%|          | 0/3 [00:00<?, ?it/s]"
      ]
     },
     "metadata": {},
     "output_type": "display_data"
    },
    {
     "name": "stdout",
     "output_type": "stream",
     "text": [
      "The file Data/Hypothesis_Testing/tmdb_api_results_2020.json already exists.\n"
     ]
    },
    {
     "data": {
      "application/vnd.jupyter.widget-view+json": {
       "model_id": "81e7b47bbbdd411e887e6755f9dc8c9a",
       "version_major": 2,
       "version_minor": 0
      },
      "text/plain": [
       "Movies from 2020:   0%|          | 0/5010 [00:00<?, ?it/s]"
      ]
     },
     "metadata": {},
     "output_type": "display_data"
    },
    {
     "name": "stdout",
     "output_type": "stream",
     "text": [
      "The file Data/Hypothesis_Testing/tmdb_api_results_2021.json already exists.\n"
     ]
    },
    {
     "data": {
      "application/vnd.jupyter.widget-view+json": {
       "model_id": "5b1a2ad9d9cd44ae86cd4c2c7610e09f",
       "version_major": 2,
       "version_minor": 0
      },
      "text/plain": [
       "Movies from 2021:   0%|          | 0/5163 [00:00<?, ?it/s]"
      ]
     },
     "metadata": {},
     "output_type": "display_data"
    },
    {
     "name": "stdout",
     "output_type": "stream",
     "text": [
      "The file Data/Hypothesis_Testing/tmdb_api_results_2022.json already exists.\n"
     ]
    },
    {
     "data": {
      "application/vnd.jupyter.widget-view+json": {
       "model_id": "4a9fc70b83014314b5a14801429e40a7",
       "version_major": 2,
       "version_minor": 0
      },
      "text/plain": [
       "Movies from 2022:   0%|          | 0/5073 [00:00<?, ?it/s]"
      ]
     },
     "metadata": {},
     "output_type": "display_data"
    }
   ],
   "source": [
    "# Start of OUTER loop\n",
    "for YEAR in tqdm_notebook(YEARS_TO_GET, desc='YEARS', position=0):\n",
    "    JSON_FILE_YEAR = f'{FOLDER}tmdb_api_results_{YEAR}.json'\n",
    "    file_exists = os.path.isfile(JSON_FILE_YEAR)\n",
    "\n",
    "    if file_exists == False:\n",
    "        print(f'Creating{JSON_FILE_YEAR} for API results for year = {YEAR}.')\n",
    "        with open (JSON_FILE_YEAR, 'w') as f:\n",
    "            json.dump([{'imdb_id':0}],f)\n",
    "\n",
    "    else:\n",
    "        print(f'The file {JSON_FILE_YEAR} already exists.')\n",
    "\n",
    "    df_year = basics.loc[basics['startYear'] == YEAR].copy()\n",
    "    movie_ids = df_year['tconst']\n",
    "        \n",
    "        # Create an empty list to store movie information\n",
    "    movie_info_list = []\n",
    "    errors=[]    \n",
    "        # Iterate over movie IDs for the current year\n",
    "    for movie_id in tqdm_notebook(movie_ids, f'Movies from {YEAR}'):\n",
    "        try:\n",
    "            temp = get_movie_with_rating(movie_id)\n",
    "            movie_info_list.append(temp)\n",
    "            time.sleep(0.02)\n",
    "        except Exception as e:\n",
    "            errors.append([movie_id, e])\n",
    "        \n",
    "        # Write the movie information to the JSON file\n",
    "    write_json(movie_info_list, JSON_FILE_YEAR)\n",
    "\n",
    "    final_year_df2 = pd.read_json(JSON_FILE_YEAR)\n",
    "    csv_fname = f'{FOLDER}final_tmdb_data_{YEAR}.csv.gz'\n",
    "    final_year_df2.to_csv(csv_fname, compression='gzip', index=False)"
   ]
  },
  {
   "cell_type": "code",
   "execution_count": 12,
   "id": "0f321f73-4471-4eaa-a721-07fbefaab635",
   "metadata": {},
   "outputs": [
    {
     "data": {
      "text/plain": [
       "['Data/Hypothesis_Testing\\\\final_tmdb_data_2001.csv.gz',\n",
       " 'Data/Hypothesis_Testing\\\\final_tmdb_data_2002.csv.gz',\n",
       " 'Data/Hypothesis_Testing\\\\final_tmdb_data_2010.csv.gz',\n",
       " 'Data/Hypothesis_Testing\\\\final_tmdb_data_2020.csv.gz',\n",
       " 'Data/Hypothesis_Testing\\\\final_tmdb_data_2021.csv.gz',\n",
       " 'Data/Hypothesis_Testing\\\\final_tmdb_data_2022.csv.gz']"
      ]
     },
     "execution_count": 12,
     "metadata": {},
     "output_type": "execute_result"
    }
   ],
   "source": [
    "import glob\n",
    "# Use glob to get all filepaths that match the pattern (*=wildcard)\n",
    "tmdb_files = sorted(glob.glob(\"Data/Hypothesis_Testing/final_tmdb_data*.csv.gz\"))\n",
    "tmdb_files"
   ]
  },
  {
   "cell_type": "code",
   "execution_count": 13,
   "id": "12cf68fa-0ca5-4db7-8fb8-d76145498f21",
   "metadata": {},
   "outputs": [
    {
     "data": {
      "text/html": [
       "<div>\n",
       "<style scoped>\n",
       "    .dataframe tbody tr th:only-of-type {\n",
       "        vertical-align: middle;\n",
       "    }\n",
       "\n",
       "    .dataframe tbody tr th {\n",
       "        vertical-align: top;\n",
       "    }\n",
       "\n",
       "    .dataframe thead th {\n",
       "        text-align: right;\n",
       "    }\n",
       "</style>\n",
       "<table border=\"1\" class=\"dataframe\">\n",
       "  <thead>\n",
       "    <tr style=\"text-align: right;\">\n",
       "      <th></th>\n",
       "      <th>imdb_id</th>\n",
       "      <th>adult</th>\n",
       "      <th>backdrop_path</th>\n",
       "      <th>belongs_to_collection</th>\n",
       "      <th>budget</th>\n",
       "      <th>genres</th>\n",
       "      <th>homepage</th>\n",
       "      <th>id</th>\n",
       "      <th>original_language</th>\n",
       "      <th>original_title</th>\n",
       "      <th>overview</th>\n",
       "      <th>popularity</th>\n",
       "      <th>poster_path</th>\n",
       "      <th>production_companies</th>\n",
       "      <th>production_countries</th>\n",
       "      <th>release_date</th>\n",
       "      <th>revenue</th>\n",
       "      <th>runtime</th>\n",
       "      <th>spoken_languages</th>\n",
       "      <th>status</th>\n",
       "      <th>tagline</th>\n",
       "      <th>title</th>\n",
       "      <th>video</th>\n",
       "      <th>vote_average</th>\n",
       "      <th>vote_count</th>\n",
       "      <th>certification</th>\n",
       "      <th>origin_country</th>\n",
       "    </tr>\n",
       "  </thead>\n",
       "  <tbody>\n",
       "    <tr>\n",
       "      <th>0</th>\n",
       "      <td>0</td>\n",
       "      <td>NaN</td>\n",
       "      <td>NaN</td>\n",
       "      <td>NaN</td>\n",
       "      <td>NaN</td>\n",
       "      <td>NaN</td>\n",
       "      <td>NaN</td>\n",
       "      <td>NaN</td>\n",
       "      <td>NaN</td>\n",
       "      <td>NaN</td>\n",
       "      <td>NaN</td>\n",
       "      <td>NaN</td>\n",
       "      <td>NaN</td>\n",
       "      <td>NaN</td>\n",
       "      <td>NaN</td>\n",
       "      <td>NaN</td>\n",
       "      <td>NaN</td>\n",
       "      <td>NaN</td>\n",
       "      <td>NaN</td>\n",
       "      <td>NaN</td>\n",
       "      <td>NaN</td>\n",
       "      <td>NaN</td>\n",
       "      <td>NaN</td>\n",
       "      <td>NaN</td>\n",
       "      <td>NaN</td>\n",
       "      <td>NaN</td>\n",
       "      <td>NaN</td>\n",
       "    </tr>\n",
       "    <tr>\n",
       "      <th>1</th>\n",
       "      <td>tt0096056</td>\n",
       "      <td>0.0</td>\n",
       "      <td>/95U3MUDXu4xSCmVLtWgargRipDi.jpg</td>\n",
       "      <td>NaN</td>\n",
       "      <td>0.0</td>\n",
       "      <td>[{'id': 18, 'name': 'Drama'}]</td>\n",
       "      <td>NaN</td>\n",
       "      <td>109809.0</td>\n",
       "      <td>en</td>\n",
       "      <td>Crime and Punishment</td>\n",
       "      <td>A modern day adaptation of Dostoyevsky's class...</td>\n",
       "      <td>10.357</td>\n",
       "      <td>/2ckMQwDi11TofiNoaE3sHrYbaCh.jpg</td>\n",
       "      <td>[]</td>\n",
       "      <td>[{'iso_3166_1': 'US', 'name': 'United States o...</td>\n",
       "      <td>2002-06-01</td>\n",
       "      <td>0.0</td>\n",
       "      <td>126.0</td>\n",
       "      <td>[{'english_name': 'English', 'iso_639_1': 'en'...</td>\n",
       "      <td>Released</td>\n",
       "      <td>NaN</td>\n",
       "      <td>Crime and Punishment</td>\n",
       "      <td>0.0</td>\n",
       "      <td>5.385</td>\n",
       "      <td>13.0</td>\n",
       "      <td>NaN</td>\n",
       "      <td>NaN</td>\n",
       "    </tr>\n",
       "    <tr>\n",
       "      <th>2</th>\n",
       "      <td>tt0118926</td>\n",
       "      <td>0.0</td>\n",
       "      <td>/qR3Dk3ctnrrxkAI6I472RhamIbu.jpg</td>\n",
       "      <td>NaN</td>\n",
       "      <td>0.0</td>\n",
       "      <td>[{'id': 80, 'name': 'Crime'}, {'id': 18, 'name...</td>\n",
       "      <td>NaN</td>\n",
       "      <td>20689.0</td>\n",
       "      <td>en</td>\n",
       "      <td>The Dancer Upstairs</td>\n",
       "      <td>A police detective in a South American country...</td>\n",
       "      <td>8.475</td>\n",
       "      <td>/jG662jKzEf63fhcbbN3WiLlz5MX.jpg</td>\n",
       "      <td>[{'id': 357, 'logo_path': None, 'name': 'Vía D...</td>\n",
       "      <td>[{'iso_3166_1': 'ES', 'name': 'Spain'}, {'iso_...</td>\n",
       "      <td>2002-09-20</td>\n",
       "      <td>5227348.0</td>\n",
       "      <td>132.0</td>\n",
       "      <td>[{'english_name': 'English', 'iso_639_1': 'en'...</td>\n",
       "      <td>Released</td>\n",
       "      <td>An honest man caught in a world of intrigue, p...</td>\n",
       "      <td>The Dancer Upstairs</td>\n",
       "      <td>0.0</td>\n",
       "      <td>6.200</td>\n",
       "      <td>51.0</td>\n",
       "      <td>NaN</td>\n",
       "      <td>NaN</td>\n",
       "    </tr>\n",
       "    <tr>\n",
       "      <th>3</th>\n",
       "      <td>tt0119980</td>\n",
       "      <td>0.0</td>\n",
       "      <td>NaN</td>\n",
       "      <td>NaN</td>\n",
       "      <td>0.0</td>\n",
       "      <td>[{'id': 80, 'name': 'Crime'}, {'id': 18, 'name...</td>\n",
       "      <td>NaN</td>\n",
       "      <td>563364.0</td>\n",
       "      <td>en</td>\n",
       "      <td>Random Shooting in LA</td>\n",
       "      <td>The seamy side of Los Angeles is revealed thro...</td>\n",
       "      <td>0.600</td>\n",
       "      <td>/79sMfuJzskjBOB28dJyQ2VIBQsd.jpg</td>\n",
       "      <td>[{'id': 111499, 'logo_path': None, 'name': 'Co...</td>\n",
       "      <td>[{'iso_3166_1': 'US', 'name': 'United States o...</td>\n",
       "      <td>2002-07-13</td>\n",
       "      <td>0.0</td>\n",
       "      <td>91.0</td>\n",
       "      <td>[{'english_name': 'English', 'iso_639_1': 'en'...</td>\n",
       "      <td>Released</td>\n",
       "      <td>NaN</td>\n",
       "      <td>Random Shooting in LA</td>\n",
       "      <td>0.0</td>\n",
       "      <td>0.000</td>\n",
       "      <td>0.0</td>\n",
       "      <td>NaN</td>\n",
       "      <td>NaN</td>\n",
       "    </tr>\n",
       "    <tr>\n",
       "      <th>4</th>\n",
       "      <td>tt0120679</td>\n",
       "      <td>0.0</td>\n",
       "      <td>/s04Ds4xbJU7DzeGVyamccH4LoxF.jpg</td>\n",
       "      <td>NaN</td>\n",
       "      <td>12000000.0</td>\n",
       "      <td>[{'id': 18, 'name': 'Drama'}, {'id': 10749, 'n...</td>\n",
       "      <td>https://www.miramax.com/movie/frida</td>\n",
       "      <td>1360.0</td>\n",
       "      <td>en</td>\n",
       "      <td>Frida</td>\n",
       "      <td>A biography of artist Frida Kahlo, who channel...</td>\n",
       "      <td>15.753</td>\n",
       "      <td>/a4hgR6aKoohB6MHni171jbi9BkU.jpg</td>\n",
       "      <td>[{'id': 14, 'logo_path': '/m6AHu84oZQxvq7n1rsv...</td>\n",
       "      <td>[{'iso_3166_1': 'CA', 'name': 'Canada'}, {'iso...</td>\n",
       "      <td>2002-08-29</td>\n",
       "      <td>56298474.0</td>\n",
       "      <td>123.0</td>\n",
       "      <td>[{'english_name': 'English', 'iso_639_1': 'en'...</td>\n",
       "      <td>Released</td>\n",
       "      <td>Prepare to be seduced.</td>\n",
       "      <td>Frida</td>\n",
       "      <td>0.0</td>\n",
       "      <td>7.422</td>\n",
       "      <td>1915.0</td>\n",
       "      <td>R</td>\n",
       "      <td>NaN</td>\n",
       "    </tr>\n",
       "    <tr>\n",
       "      <th>5</th>\n",
       "      <td>tt0120804</td>\n",
       "      <td>0.0</td>\n",
       "      <td>/5pGWjnM62Zs0S1xRf3TDL1Xizr.jpg</td>\n",
       "      <td>{'id': 17255, 'name': 'Resident Evil Collectio...</td>\n",
       "      <td>33000000.0</td>\n",
       "      <td>[{'id': 27, 'name': 'Horror'}, {'id': 28, 'nam...</td>\n",
       "      <td>https://www.sonypictures.com/movies/residentevil</td>\n",
       "      <td>1576.0</td>\n",
       "      <td>en</td>\n",
       "      <td>Resident Evil</td>\n",
       "      <td>When a virus leaks from a top-secret facility,...</td>\n",
       "      <td>25.030</td>\n",
       "      <td>/1UKNef590A0ZaMnxsscIcWuK1Em.jpg</td>\n",
       "      <td>[{'id': 248, 'logo_path': None, 'name': 'Impac...</td>\n",
       "      <td>[{'iso_3166_1': 'CA', 'name': 'Canada'}, {'iso...</td>\n",
       "      <td>2002-03-15</td>\n",
       "      <td>102984862.0</td>\n",
       "      <td>100.0</td>\n",
       "      <td>[{'english_name': 'English', 'iso_639_1': 'en'...</td>\n",
       "      <td>Released</td>\n",
       "      <td>A secret experiment. A deadly virus. A fatal m...</td>\n",
       "      <td>Resident Evil</td>\n",
       "      <td>0.0</td>\n",
       "      <td>6.613</td>\n",
       "      <td>5870.0</td>\n",
       "      <td>R</td>\n",
       "      <td>NaN</td>\n",
       "    </tr>\n",
       "    <tr>\n",
       "      <th>6</th>\n",
       "      <td>tt0120912</td>\n",
       "      <td>0.0</td>\n",
       "      <td>/o1l6OCqA3pYDZHIc5L1s7CEzCMv.jpg</td>\n",
       "      <td>{'id': 86055, 'name': 'Men In Black Collection...</td>\n",
       "      <td>140000000.0</td>\n",
       "      <td>[{'id': 28, 'name': 'Action'}, {'id': 12, 'nam...</td>\n",
       "      <td>https://www.sonypictures.com/movies/meninblackii</td>\n",
       "      <td>608.0</td>\n",
       "      <td>en</td>\n",
       "      <td>Men in Black II</td>\n",
       "      <td>Kay and Jay reunite to provide our best, last ...</td>\n",
       "      <td>38.110</td>\n",
       "      <td>/enA22EPyzc2WQ1VVyY7zxresQQr.jpg</td>\n",
       "      <td>[{'id': 5, 'logo_path': '/tVoHtTipJDUz5cCUib65...</td>\n",
       "      <td>[{'iso_3166_1': 'US', 'name': 'United States o...</td>\n",
       "      <td>2002-07-03</td>\n",
       "      <td>445135288.0</td>\n",
       "      <td>88.0</td>\n",
       "      <td>[{'english_name': 'English', 'iso_639_1': 'en'...</td>\n",
       "      <td>Released</td>\n",
       "      <td>Back in black.</td>\n",
       "      <td>Men in Black II</td>\n",
       "      <td>0.0</td>\n",
       "      <td>6.400</td>\n",
       "      <td>9331.0</td>\n",
       "      <td>PG-13</td>\n",
       "      <td>NaN</td>\n",
       "    </tr>\n",
       "    <tr>\n",
       "      <th>7</th>\n",
       "      <td>tt0121765</td>\n",
       "      <td>0.0</td>\n",
       "      <td>/abwxHfymXGAbbH3lo9PDEJEfvtW.jpg</td>\n",
       "      <td>{'id': 10, 'name': 'Star Wars Collection', 'po...</td>\n",
       "      <td>120000000.0</td>\n",
       "      <td>[{'id': 12, 'name': 'Adventure'}, {'id': 28, '...</td>\n",
       "      <td>NaN</td>\n",
       "      <td>1894.0</td>\n",
       "      <td>en</td>\n",
       "      <td>Star Wars: Episode II - Attack of the Clones</td>\n",
       "      <td>Following an assassination attempt on Senator ...</td>\n",
       "      <td>30.784</td>\n",
       "      <td>/oZNPzxqM2s5DyVWab09NTQScDQt.jpg</td>\n",
       "      <td>[{'id': 1, 'logo_path': '/tlVSws0RvvtPBwViUyOF...</td>\n",
       "      <td>[{'iso_3166_1': 'US', 'name': 'United States o...</td>\n",
       "      <td>2002-05-15</td>\n",
       "      <td>649398328.0</td>\n",
       "      <td>142.0</td>\n",
       "      <td>[{'english_name': 'English', 'iso_639_1': 'en'...</td>\n",
       "      <td>Released</td>\n",
       "      <td>A Jedi Shall Not Know Anger. Nor Hatred. Nor L...</td>\n",
       "      <td>Star Wars: Episode II - Attack of the Clones</td>\n",
       "      <td>0.0</td>\n",
       "      <td>6.600</td>\n",
       "      <td>12406.0</td>\n",
       "      <td>PG</td>\n",
       "      <td>NaN</td>\n",
       "    </tr>\n",
       "    <tr>\n",
       "      <th>8</th>\n",
       "      <td>tt0133240</td>\n",
       "      <td>0.0</td>\n",
       "      <td>/mVuH9hNGnxF9bbhlh1Tr9FuG3Uc.jpg</td>\n",
       "      <td>NaN</td>\n",
       "      <td>140000000.0</td>\n",
       "      <td>[{'id': 12, 'name': 'Adventure'}, {'id': 16, '...</td>\n",
       "      <td>NaN</td>\n",
       "      <td>9016.0</td>\n",
       "      <td>en</td>\n",
       "      <td>Treasure Planet</td>\n",
       "      <td>When space galleon cabin boy Jim Hawkins disco...</td>\n",
       "      <td>59.974</td>\n",
       "      <td>/zMKatZ0c0NCoKzfizaCzVUcbKMf.jpg</td>\n",
       "      <td>[{'id': 2, 'logo_path': '/wdrCwmRnLFJhEoH8GSfy...</td>\n",
       "      <td>[{'iso_3166_1': 'US', 'name': 'United States o...</td>\n",
       "      <td>2002-11-26</td>\n",
       "      <td>109578115.0</td>\n",
       "      <td>95.0</td>\n",
       "      <td>[{'english_name': 'English', 'iso_639_1': 'en'...</td>\n",
       "      <td>Released</td>\n",
       "      <td>Find your place in the universe.</td>\n",
       "      <td>Treasure Planet</td>\n",
       "      <td>0.0</td>\n",
       "      <td>7.500</td>\n",
       "      <td>3870.0</td>\n",
       "      <td>PG</td>\n",
       "      <td>NaN</td>\n",
       "    </tr>\n",
       "    <tr>\n",
       "      <th>9</th>\n",
       "      <td>tt0145487</td>\n",
       "      <td>0.0</td>\n",
       "      <td>/jHxCeXnSchAuwHnmVatTgqMYdX8.jpg</td>\n",
       "      <td>{'id': 556, 'name': 'Spider-Man Collection', '...</td>\n",
       "      <td>139000000.0</td>\n",
       "      <td>[{'id': 14, 'name': 'Fantasy'}, {'id': 28, 'na...</td>\n",
       "      <td>https://www.sonypictures.com/movies/spiderman</td>\n",
       "      <td>557.0</td>\n",
       "      <td>en</td>\n",
       "      <td>Spider-Man</td>\n",
       "      <td>After being bitten by a genetically altered sp...</td>\n",
       "      <td>85.826</td>\n",
       "      <td>/gh4cZbhZxyTbgxQPxD0dOudNPTn.jpg</td>\n",
       "      <td>[{'id': 19551, 'logo_path': '/2WpWp9b108hizjHK...</td>\n",
       "      <td>[{'iso_3166_1': 'US', 'name': 'United States o...</td>\n",
       "      <td>2002-05-01</td>\n",
       "      <td>821708551.0</td>\n",
       "      <td>121.0</td>\n",
       "      <td>[{'english_name': 'English', 'iso_639_1': 'en'...</td>\n",
       "      <td>Released</td>\n",
       "      <td>With great power comes great responsibility.</td>\n",
       "      <td>Spider-Man</td>\n",
       "      <td>0.0</td>\n",
       "      <td>7.284</td>\n",
       "      <td>17851.0</td>\n",
       "      <td>PG</td>\n",
       "      <td>NaN</td>\n",
       "    </tr>\n",
       "  </tbody>\n",
       "</table>\n",
       "</div>"
      ],
      "text/plain": [
       "     imdb_id  adult                     backdrop_path  \\\n",
       "0          0    NaN                               NaN   \n",
       "1  tt0096056    0.0  /95U3MUDXu4xSCmVLtWgargRipDi.jpg   \n",
       "2  tt0118926    0.0  /qR3Dk3ctnrrxkAI6I472RhamIbu.jpg   \n",
       "3  tt0119980    0.0                               NaN   \n",
       "4  tt0120679    0.0  /s04Ds4xbJU7DzeGVyamccH4LoxF.jpg   \n",
       "5  tt0120804    0.0   /5pGWjnM62Zs0S1xRf3TDL1Xizr.jpg   \n",
       "6  tt0120912    0.0  /o1l6OCqA3pYDZHIc5L1s7CEzCMv.jpg   \n",
       "7  tt0121765    0.0  /abwxHfymXGAbbH3lo9PDEJEfvtW.jpg   \n",
       "8  tt0133240    0.0  /mVuH9hNGnxF9bbhlh1Tr9FuG3Uc.jpg   \n",
       "9  tt0145487    0.0  /jHxCeXnSchAuwHnmVatTgqMYdX8.jpg   \n",
       "\n",
       "                               belongs_to_collection       budget  \\\n",
       "0                                                NaN          NaN   \n",
       "1                                                NaN          0.0   \n",
       "2                                                NaN          0.0   \n",
       "3                                                NaN          0.0   \n",
       "4                                                NaN   12000000.0   \n",
       "5  {'id': 17255, 'name': 'Resident Evil Collectio...   33000000.0   \n",
       "6  {'id': 86055, 'name': 'Men In Black Collection...  140000000.0   \n",
       "7  {'id': 10, 'name': 'Star Wars Collection', 'po...  120000000.0   \n",
       "8                                                NaN  140000000.0   \n",
       "9  {'id': 556, 'name': 'Spider-Man Collection', '...  139000000.0   \n",
       "\n",
       "                                              genres  \\\n",
       "0                                                NaN   \n",
       "1                      [{'id': 18, 'name': 'Drama'}]   \n",
       "2  [{'id': 80, 'name': 'Crime'}, {'id': 18, 'name...   \n",
       "3  [{'id': 80, 'name': 'Crime'}, {'id': 18, 'name...   \n",
       "4  [{'id': 18, 'name': 'Drama'}, {'id': 10749, 'n...   \n",
       "5  [{'id': 27, 'name': 'Horror'}, {'id': 28, 'nam...   \n",
       "6  [{'id': 28, 'name': 'Action'}, {'id': 12, 'nam...   \n",
       "7  [{'id': 12, 'name': 'Adventure'}, {'id': 28, '...   \n",
       "8  [{'id': 12, 'name': 'Adventure'}, {'id': 16, '...   \n",
       "9  [{'id': 14, 'name': 'Fantasy'}, {'id': 28, 'na...   \n",
       "\n",
       "                                           homepage        id  \\\n",
       "0                                               NaN       NaN   \n",
       "1                                               NaN  109809.0   \n",
       "2                                               NaN   20689.0   \n",
       "3                                               NaN  563364.0   \n",
       "4               https://www.miramax.com/movie/frida    1360.0   \n",
       "5  https://www.sonypictures.com/movies/residentevil    1576.0   \n",
       "6  https://www.sonypictures.com/movies/meninblackii     608.0   \n",
       "7                                               NaN    1894.0   \n",
       "8                                               NaN    9016.0   \n",
       "9     https://www.sonypictures.com/movies/spiderman     557.0   \n",
       "\n",
       "  original_language                                original_title  \\\n",
       "0               NaN                                           NaN   \n",
       "1                en                          Crime and Punishment   \n",
       "2                en                           The Dancer Upstairs   \n",
       "3                en                         Random Shooting in LA   \n",
       "4                en                                         Frida   \n",
       "5                en                                 Resident Evil   \n",
       "6                en                               Men in Black II   \n",
       "7                en  Star Wars: Episode II - Attack of the Clones   \n",
       "8                en                               Treasure Planet   \n",
       "9                en                                    Spider-Man   \n",
       "\n",
       "                                            overview  popularity  \\\n",
       "0                                                NaN         NaN   \n",
       "1  A modern day adaptation of Dostoyevsky's class...      10.357   \n",
       "2  A police detective in a South American country...       8.475   \n",
       "3  The seamy side of Los Angeles is revealed thro...       0.600   \n",
       "4  A biography of artist Frida Kahlo, who channel...      15.753   \n",
       "5  When a virus leaks from a top-secret facility,...      25.030   \n",
       "6  Kay and Jay reunite to provide our best, last ...      38.110   \n",
       "7  Following an assassination attempt on Senator ...      30.784   \n",
       "8  When space galleon cabin boy Jim Hawkins disco...      59.974   \n",
       "9  After being bitten by a genetically altered sp...      85.826   \n",
       "\n",
       "                        poster_path  \\\n",
       "0                               NaN   \n",
       "1  /2ckMQwDi11TofiNoaE3sHrYbaCh.jpg   \n",
       "2  /jG662jKzEf63fhcbbN3WiLlz5MX.jpg   \n",
       "3  /79sMfuJzskjBOB28dJyQ2VIBQsd.jpg   \n",
       "4  /a4hgR6aKoohB6MHni171jbi9BkU.jpg   \n",
       "5  /1UKNef590A0ZaMnxsscIcWuK1Em.jpg   \n",
       "6  /enA22EPyzc2WQ1VVyY7zxresQQr.jpg   \n",
       "7  /oZNPzxqM2s5DyVWab09NTQScDQt.jpg   \n",
       "8  /zMKatZ0c0NCoKzfizaCzVUcbKMf.jpg   \n",
       "9  /gh4cZbhZxyTbgxQPxD0dOudNPTn.jpg   \n",
       "\n",
       "                                production_companies  \\\n",
       "0                                                NaN   \n",
       "1                                                 []   \n",
       "2  [{'id': 357, 'logo_path': None, 'name': 'Vía D...   \n",
       "3  [{'id': 111499, 'logo_path': None, 'name': 'Co...   \n",
       "4  [{'id': 14, 'logo_path': '/m6AHu84oZQxvq7n1rsv...   \n",
       "5  [{'id': 248, 'logo_path': None, 'name': 'Impac...   \n",
       "6  [{'id': 5, 'logo_path': '/tVoHtTipJDUz5cCUib65...   \n",
       "7  [{'id': 1, 'logo_path': '/tlVSws0RvvtPBwViUyOF...   \n",
       "8  [{'id': 2, 'logo_path': '/wdrCwmRnLFJhEoH8GSfy...   \n",
       "9  [{'id': 19551, 'logo_path': '/2WpWp9b108hizjHK...   \n",
       "\n",
       "                                production_countries release_date  \\\n",
       "0                                                NaN          NaN   \n",
       "1  [{'iso_3166_1': 'US', 'name': 'United States o...   2002-06-01   \n",
       "2  [{'iso_3166_1': 'ES', 'name': 'Spain'}, {'iso_...   2002-09-20   \n",
       "3  [{'iso_3166_1': 'US', 'name': 'United States o...   2002-07-13   \n",
       "4  [{'iso_3166_1': 'CA', 'name': 'Canada'}, {'iso...   2002-08-29   \n",
       "5  [{'iso_3166_1': 'CA', 'name': 'Canada'}, {'iso...   2002-03-15   \n",
       "6  [{'iso_3166_1': 'US', 'name': 'United States o...   2002-07-03   \n",
       "7  [{'iso_3166_1': 'US', 'name': 'United States o...   2002-05-15   \n",
       "8  [{'iso_3166_1': 'US', 'name': 'United States o...   2002-11-26   \n",
       "9  [{'iso_3166_1': 'US', 'name': 'United States o...   2002-05-01   \n",
       "\n",
       "       revenue  runtime                                   spoken_languages  \\\n",
       "0          NaN      NaN                                                NaN   \n",
       "1          0.0    126.0  [{'english_name': 'English', 'iso_639_1': 'en'...   \n",
       "2    5227348.0    132.0  [{'english_name': 'English', 'iso_639_1': 'en'...   \n",
       "3          0.0     91.0  [{'english_name': 'English', 'iso_639_1': 'en'...   \n",
       "4   56298474.0    123.0  [{'english_name': 'English', 'iso_639_1': 'en'...   \n",
       "5  102984862.0    100.0  [{'english_name': 'English', 'iso_639_1': 'en'...   \n",
       "6  445135288.0     88.0  [{'english_name': 'English', 'iso_639_1': 'en'...   \n",
       "7  649398328.0    142.0  [{'english_name': 'English', 'iso_639_1': 'en'...   \n",
       "8  109578115.0     95.0  [{'english_name': 'English', 'iso_639_1': 'en'...   \n",
       "9  821708551.0    121.0  [{'english_name': 'English', 'iso_639_1': 'en'...   \n",
       "\n",
       "     status                                            tagline  \\\n",
       "0       NaN                                                NaN   \n",
       "1  Released                                                NaN   \n",
       "2  Released  An honest man caught in a world of intrigue, p...   \n",
       "3  Released                                                NaN   \n",
       "4  Released                             Prepare to be seduced.   \n",
       "5  Released  A secret experiment. A deadly virus. A fatal m...   \n",
       "6  Released                                     Back in black.   \n",
       "7  Released  A Jedi Shall Not Know Anger. Nor Hatred. Nor L...   \n",
       "8  Released                   Find your place in the universe.   \n",
       "9  Released       With great power comes great responsibility.   \n",
       "\n",
       "                                          title  video  vote_average  \\\n",
       "0                                           NaN    NaN           NaN   \n",
       "1                          Crime and Punishment    0.0         5.385   \n",
       "2                           The Dancer Upstairs    0.0         6.200   \n",
       "3                         Random Shooting in LA    0.0         0.000   \n",
       "4                                         Frida    0.0         7.422   \n",
       "5                                 Resident Evil    0.0         6.613   \n",
       "6                               Men in Black II    0.0         6.400   \n",
       "7  Star Wars: Episode II - Attack of the Clones    0.0         6.600   \n",
       "8                               Treasure Planet    0.0         7.500   \n",
       "9                                    Spider-Man    0.0         7.284   \n",
       "\n",
       "   vote_count certification origin_country  \n",
       "0         NaN           NaN            NaN  \n",
       "1        13.0           NaN            NaN  \n",
       "2        51.0           NaN            NaN  \n",
       "3         0.0           NaN            NaN  \n",
       "4      1915.0             R            NaN  \n",
       "5      5870.0             R            NaN  \n",
       "6      9331.0         PG-13            NaN  \n",
       "7     12406.0            PG            NaN  \n",
       "8      3870.0            PG            NaN  \n",
       "9     17851.0            PG            NaN  "
      ]
     },
     "execution_count": 13,
     "metadata": {},
     "output_type": "execute_result"
    }
   ],
   "source": [
    "# Use read_csv in a list comprehension and combine with concat to load all files\n",
    "df = pd.concat([pd.read_csv(f) for f in tmdb_files] )\n",
    "df.head(10)"
   ]
  },
  {
   "cell_type": "code",
   "execution_count": 14,
   "id": "cf787d56-1c6f-4c8c-ba89-9faf78a17c43",
   "metadata": {},
   "outputs": [],
   "source": [
    "#Save final merged csv as 'tmdb_results_combined.csv.gz'\n",
    "fname = f'{FOLDER}tmdb_results_postcovid.csv.gz'\n",
    "df.to_csv(fname, compression='gzip',index=False)"
   ]
  },
  {
   "cell_type": "markdown",
   "id": "d55d1b4f-deaf-4347-9aa1-3ea53f1a436f",
   "metadata": {},
   "source": [
    "1. Does the MPAA rating of a movie (G/PG/PG-13/R) affect how much revenue the movie generates?"
   ]
  },
  {
   "cell_type": "code",
   "execution_count": 15,
   "id": "5ee3384a-490b-4efd-8938-c9defccf5ea2",
   "metadata": {},
   "outputs": [],
   "source": [
    "# We are dealing with several variables and a numeric problem (revenue)\n",
    "# An analysis of variance (ANOVA) will be useful here\n",
    "import matplotlib.pyplot as plt\n",
    "import scipy.stats as stats"
   ]
  },
  {
   "cell_type": "code",
   "execution_count": 16,
   "id": "a66ff043-dc56-4f41-b776-dd4dfd3aa15b",
   "metadata": {},
   "outputs": [
    {
     "data": {
      "image/png": "[encoded data removed]",
      "text/plain": [
       "<Figure size 640x480 with 1 Axes>"
      ]
     },
     "metadata": {},
     "output_type": "display_data"
    }
   ],
   "source": [
    "# Let's visualize our revenues per genre\n",
    "sns.barplot(df, x = 'certification', y = 'revenue');"
   ]
  },
  {
   "cell_type": "code",
   "execution_count": 17,
   "id": "85bb1ca3-9f34-4314-b01f-bab3a8a92656",
   "metadata": {},
   "outputs": [
    {
     "data": {
      "text/plain": [
       "R        3847\n",
       "NR       2002\n",
       "PG-13    1740\n",
       "PG        810\n",
       "G         268\n",
       "NC-17      96\n",
       "Name: certification, dtype: int64"
      ]
     },
     "execution_count": 17,
     "metadata": {},
     "output_type": "execute_result"
    }
   ],
   "source": [
    "df['certification'].value_counts()"
   ]
  },
  {
   "cell_type": "code",
   "execution_count": 18,
   "id": "4fe865cb-d3d7-40f8-af12-0a66cf4f753b",
   "metadata": {},
   "outputs": [],
   "source": [
    "nn = df.copy()"
   ]
  },
  {
   "cell_type": "code",
   "execution_count": 19,
   "id": "2ac1a9f5-1aaf-4e42-bbc4-a481e1ca0a0b",
   "metadata": {},
   "outputs": [
    {
     "data": {
      "text/html": [
       "<div>\n",
       "<style scoped>\n",
       "    .dataframe tbody tr th:only-of-type {\n",
       "        vertical-align: middle;\n",
       "    }\n",
       "\n",
       "    .dataframe tbody tr th {\n",
       "        vertical-align: top;\n",
       "    }\n",
       "\n",
       "    .dataframe thead th {\n",
       "        text-align: right;\n",
       "    }\n",
       "</style>\n",
       "<table border=\"1\" class=\"dataframe\">\n",
       "  <thead>\n",
       "    <tr style=\"text-align: right;\">\n",
       "      <th></th>\n",
       "      <th>imdb_id</th>\n",
       "      <th>adult</th>\n",
       "      <th>backdrop_path</th>\n",
       "      <th>belongs_to_collection</th>\n",
       "      <th>budget</th>\n",
       "      <th>genres</th>\n",
       "      <th>homepage</th>\n",
       "      <th>id</th>\n",
       "      <th>original_language</th>\n",
       "      <th>original_title</th>\n",
       "      <th>overview</th>\n",
       "      <th>popularity</th>\n",
       "      <th>poster_path</th>\n",
       "      <th>production_companies</th>\n",
       "      <th>production_countries</th>\n",
       "      <th>release_date</th>\n",
       "      <th>revenue</th>\n",
       "      <th>runtime</th>\n",
       "      <th>spoken_languages</th>\n",
       "      <th>status</th>\n",
       "      <th>tagline</th>\n",
       "      <th>title</th>\n",
       "      <th>video</th>\n",
       "      <th>vote_average</th>\n",
       "      <th>vote_count</th>\n",
       "      <th>certification</th>\n",
       "      <th>origin_country</th>\n",
       "    </tr>\n",
       "  </thead>\n",
       "  <tbody>\n",
       "    <tr>\n",
       "      <th>4</th>\n",
       "      <td>tt0120679</td>\n",
       "      <td>0.0</td>\n",
       "      <td>/s04Ds4xbJU7DzeGVyamccH4LoxF.jpg</td>\n",
       "      <td>NaN</td>\n",
       "      <td>12000000.0</td>\n",
       "      <td>[{'id': 18, 'name': 'Drama'}, {'id': 10749, 'n...</td>\n",
       "      <td>https://www.miramax.com/movie/frida</td>\n",
       "      <td>1360.0</td>\n",
       "      <td>en</td>\n",
       "      <td>Frida</td>\n",
       "      <td>A biography of artist Frida Kahlo, who channel...</td>\n",
       "      <td>15.753</td>\n",
       "      <td>/a4hgR6aKoohB6MHni171jbi9BkU.jpg</td>\n",
       "      <td>[{'id': 14, 'logo_path': '/m6AHu84oZQxvq7n1rsv...</td>\n",
       "      <td>[{'iso_3166_1': 'CA', 'name': 'Canada'}, {'iso...</td>\n",
       "      <td>2002-08-29</td>\n",
       "      <td>56298474.0</td>\n",
       "      <td>123.0</td>\n",
       "      <td>[{'english_name': 'English', 'iso_639_1': 'en'...</td>\n",
       "      <td>Released</td>\n",
       "      <td>Prepare to be seduced.</td>\n",
       "      <td>Frida</td>\n",
       "      <td>0.0</td>\n",
       "      <td>7.422</td>\n",
       "      <td>1915.0</td>\n",
       "      <td>R</td>\n",
       "      <td>NaN</td>\n",
       "    </tr>\n",
       "    <tr>\n",
       "      <th>5</th>\n",
       "      <td>tt0120804</td>\n",
       "      <td>0.0</td>\n",
       "      <td>/5pGWjnM62Zs0S1xRf3TDL1Xizr.jpg</td>\n",
       "      <td>{'id': 17255, 'name': 'Resident Evil Collectio...</td>\n",
       "      <td>33000000.0</td>\n",
       "      <td>[{'id': 27, 'name': 'Horror'}, {'id': 28, 'nam...</td>\n",
       "      <td>https://www.sonypictures.com/movies/residentevil</td>\n",
       "      <td>1576.0</td>\n",
       "      <td>en</td>\n",
       "      <td>Resident Evil</td>\n",
       "      <td>When a virus leaks from a top-secret facility,...</td>\n",
       "      <td>25.030</td>\n",
       "      <td>/1UKNef590A0ZaMnxsscIcWuK1Em.jpg</td>\n",
       "      <td>[{'id': 248, 'logo_path': None, 'name': 'Impac...</td>\n",
       "      <td>[{'iso_3166_1': 'CA', 'name': 'Canada'}, {'iso...</td>\n",
       "      <td>2002-03-15</td>\n",
       "      <td>102984862.0</td>\n",
       "      <td>100.0</td>\n",
       "      <td>[{'english_name': 'English', 'iso_639_1': 'en'...</td>\n",
       "      <td>Released</td>\n",
       "      <td>A secret experiment. A deadly virus. A fatal m...</td>\n",
       "      <td>Resident Evil</td>\n",
       "      <td>0.0</td>\n",
       "      <td>6.613</td>\n",
       "      <td>5870.0</td>\n",
       "      <td>R</td>\n",
       "      <td>NaN</td>\n",
       "    </tr>\n",
       "    <tr>\n",
       "      <th>6</th>\n",
       "      <td>tt0120912</td>\n",
       "      <td>0.0</td>\n",
       "      <td>/o1l6OCqA3pYDZHIc5L1s7CEzCMv.jpg</td>\n",
       "      <td>{'id': 86055, 'name': 'Men In Black Collection...</td>\n",
       "      <td>140000000.0</td>\n",
       "      <td>[{'id': 28, 'name': 'Action'}, {'id': 12, 'nam...</td>\n",
       "      <td>https://www.sonypictures.com/movies/meninblackii</td>\n",
       "      <td>608.0</td>\n",
       "      <td>en</td>\n",
       "      <td>Men in Black II</td>\n",
       "      <td>Kay and Jay reunite to provide our best, last ...</td>\n",
       "      <td>38.110</td>\n",
       "      <td>/enA22EPyzc2WQ1VVyY7zxresQQr.jpg</td>\n",
       "      <td>[{'id': 5, 'logo_path': '/tVoHtTipJDUz5cCUib65...</td>\n",
       "      <td>[{'iso_3166_1': 'US', 'name': 'United States o...</td>\n",
       "      <td>2002-07-03</td>\n",
       "      <td>445135288.0</td>\n",
       "      <td>88.0</td>\n",
       "      <td>[{'english_name': 'English', 'iso_639_1': 'en'...</td>\n",
       "      <td>Released</td>\n",
       "      <td>Back in black.</td>\n",
       "      <td>Men in Black II</td>\n",
       "      <td>0.0</td>\n",
       "      <td>6.400</td>\n",
       "      <td>9331.0</td>\n",
       "      <td>PG-13</td>\n",
       "      <td>NaN</td>\n",
       "    </tr>\n",
       "  </tbody>\n",
       "</table>\n",
       "</div>"
      ],
      "text/plain": [
       "     imdb_id  adult                     backdrop_path  \\\n",
       "4  tt0120679    0.0  /s04Ds4xbJU7DzeGVyamccH4LoxF.jpg   \n",
       "5  tt0120804    0.0   /5pGWjnM62Zs0S1xRf3TDL1Xizr.jpg   \n",
       "6  tt0120912    0.0  /o1l6OCqA3pYDZHIc5L1s7CEzCMv.jpg   \n",
       "\n",
       "                               belongs_to_collection       budget  \\\n",
       "4                                                NaN   12000000.0   \n",
       "5  {'id': 17255, 'name': 'Resident Evil Collectio...   33000000.0   \n",
       "6  {'id': 86055, 'name': 'Men In Black Collection...  140000000.0   \n",
       "\n",
       "                                              genres  \\\n",
       "4  [{'id': 18, 'name': 'Drama'}, {'id': 10749, 'n...   \n",
       "5  [{'id': 27, 'name': 'Horror'}, {'id': 28, 'nam...   \n",
       "6  [{'id': 28, 'name': 'Action'}, {'id': 12, 'nam...   \n",
       "\n",
       "                                           homepage      id original_language  \\\n",
       "4               https://www.miramax.com/movie/frida  1360.0                en   \n",
       "5  https://www.sonypictures.com/movies/residentevil  1576.0                en   \n",
       "6  https://www.sonypictures.com/movies/meninblackii   608.0                en   \n",
       "\n",
       "    original_title                                           overview  \\\n",
       "4            Frida  A biography of artist Frida Kahlo, who channel...   \n",
       "5    Resident Evil  When a virus leaks from a top-secret facility,...   \n",
       "6  Men in Black II  Kay and Jay reunite to provide our best, last ...   \n",
       "\n",
       "   popularity                       poster_path  \\\n",
       "4      15.753  /a4hgR6aKoohB6MHni171jbi9BkU.jpg   \n",
       "5      25.030  /1UKNef590A0ZaMnxsscIcWuK1Em.jpg   \n",
       "6      38.110  /enA22EPyzc2WQ1VVyY7zxresQQr.jpg   \n",
       "\n",
       "                                production_companies  \\\n",
       "4  [{'id': 14, 'logo_path': '/m6AHu84oZQxvq7n1rsv...   \n",
       "5  [{'id': 248, 'logo_path': None, 'name': 'Impac...   \n",
       "6  [{'id': 5, 'logo_path': '/tVoHtTipJDUz5cCUib65...   \n",
       "\n",
       "                                production_countries release_date  \\\n",
       "4  [{'iso_3166_1': 'CA', 'name': 'Canada'}, {'iso...   2002-08-29   \n",
       "5  [{'iso_3166_1': 'CA', 'name': 'Canada'}, {'iso...   2002-03-15   \n",
       "6  [{'iso_3166_1': 'US', 'name': 'United States o...   2002-07-03   \n",
       "\n",
       "       revenue  runtime                                   spoken_languages  \\\n",
       "4   56298474.0    123.0  [{'english_name': 'English', 'iso_639_1': 'en'...   \n",
       "5  102984862.0    100.0  [{'english_name': 'English', 'iso_639_1': 'en'...   \n",
       "6  445135288.0     88.0  [{'english_name': 'English', 'iso_639_1': 'en'...   \n",
       "\n",
       "     status                                            tagline  \\\n",
       "4  Released                             Prepare to be seduced.   \n",
       "5  Released  A secret experiment. A deadly virus. A fatal m...   \n",
       "6  Released                                     Back in black.   \n",
       "\n",
       "             title  video  vote_average  vote_count certification  \\\n",
       "4            Frida    0.0         7.422      1915.0             R   \n",
       "5    Resident Evil    0.0         6.613      5870.0             R   \n",
       "6  Men in Black II    0.0         6.400      9331.0         PG-13   \n",
       "\n",
       "  origin_country  \n",
       "4            NaN  \n",
       "5            NaN  \n",
       "6            NaN  "
      ]
     },
     "execution_count": 19,
     "metadata": {},
     "output_type": "execute_result"
    }
   ],
   "source": [
    "nn = nn.dropna(subset=['certification', 'revenue'])\n",
    "nn.head(3)"
   ]
  },
  {
   "cell_type": "code",
   "execution_count": 20,
   "id": "d9bb0043-10cc-4fbf-8604-a1921755a6cc",
   "metadata": {},
   "outputs": [
    {
     "data": {
      "text/plain": [
       "dict_keys(['R', 'PG-13', 'PG', 'G', 'NR', 'NC-17'])"
      ]
     },
     "execution_count": 20,
     "metadata": {},
     "output_type": "execute_result"
    }
   ],
   "source": [
    "## Each group needs to be separated to be analyzed.\n",
    "groups = {}\n",
    "## Loop through all unique categories\n",
    "for i in nn['certification'].unique():\n",
    "    ## Get series for group and rename\n",
    "    data = nn.loc[nn['certification']==i,'revenue'].copy()\n",
    "    \n",
    "    # save into the dictionary\n",
    "    groups[i] = data\n",
    "groups.keys()"
   ]
  },
  {
   "cell_type": "code",
   "execution_count": 21,
   "id": "96a6f100-8cec-4043-aab5-61e1b817a054",
   "metadata": {},
   "outputs": [
    {
     "data": {
      "text/html": [
       "<div>\n",
       "<style scoped>\n",
       "    .dataframe tbody tr th:only-of-type {\n",
       "        vertical-align: middle;\n",
       "    }\n",
       "\n",
       "    .dataframe tbody tr th {\n",
       "        vertical-align: top;\n",
       "    }\n",
       "\n",
       "    .dataframe thead th {\n",
       "        text-align: right;\n",
       "    }\n",
       "</style>\n",
       "<table border=\"1\" class=\"dataframe\">\n",
       "  <thead>\n",
       "    <tr style=\"text-align: right;\">\n",
       "      <th></th>\n",
       "      <th>n</th>\n",
       "      <th>p</th>\n",
       "      <th>test stat</th>\n",
       "    </tr>\n",
       "  </thead>\n",
       "  <tbody>\n",
       "    <tr>\n",
       "      <th>R</th>\n",
       "      <td>3847.0</td>\n",
       "      <td>0.000000e+00</td>\n",
       "      <td>4388.083702</td>\n",
       "    </tr>\n",
       "    <tr>\n",
       "      <th>PG-13</th>\n",
       "      <td>1740.0</td>\n",
       "      <td>0.000000e+00</td>\n",
       "      <td>1937.660661</td>\n",
       "    </tr>\n",
       "    <tr>\n",
       "      <th>PG</th>\n",
       "      <td>810.0</td>\n",
       "      <td>3.468316e-215</td>\n",
       "      <td>987.624252</td>\n",
       "    </tr>\n",
       "    <tr>\n",
       "      <th>G</th>\n",
       "      <td>268.0</td>\n",
       "      <td>1.150924e-78</td>\n",
       "      <td>358.922144</td>\n",
       "    </tr>\n",
       "    <tr>\n",
       "      <th>NR</th>\n",
       "      <td>2002.0</td>\n",
       "      <td>0.000000e+00</td>\n",
       "      <td>4711.370819</td>\n",
       "    </tr>\n",
       "    <tr>\n",
       "      <th>NC-17</th>\n",
       "      <td>96.0</td>\n",
       "      <td>4.801249e-35</td>\n",
       "      <td>158.043204</td>\n",
       "    </tr>\n",
       "  </tbody>\n",
       "</table>\n",
       "</div>"
      ],
      "text/plain": [
       "            n              p    test stat\n",
       "R      3847.0   0.000000e+00  4388.083702\n",
       "PG-13  1740.0   0.000000e+00  1937.660661\n",
       "PG      810.0  3.468316e-215   987.624252\n",
       "G       268.0   1.150924e-78   358.922144\n",
       "NR     2002.0   0.000000e+00  4711.370819\n",
       "NC-17    96.0   4.801249e-35   158.043204"
      ]
     },
     "execution_count": 21,
     "metadata": {},
     "output_type": "execute_result"
    }
   ],
   "source": [
    "## Running normal test on each group and confirming there are >20 in each group\n",
    "norm_results = {}\n",
    "for i, data in groups.items():\n",
    "    stat, p = stats.normaltest(data)\n",
    "    ## save the p val, test statistic, and the size of the group\n",
    "    norm_results[i] = {'n': len(data),\n",
    "                             'p':p,\n",
    "                             'test stat':stat,}\n",
    "## convert to a dataframe\n",
    "norm_results_df = pd.DataFrame(norm_results).T\n",
    "norm_results_df"
   ]
  },
  {
   "cell_type": "code",
   "execution_count": 22,
   "id": "9dc3921b-9058-419c-900c-94945ad0b2d9",
   "metadata": {},
   "outputs": [
    {
     "data": {
      "text/html": [
       "<div>\n",
       "<style scoped>\n",
       "    .dataframe tbody tr th:only-of-type {\n",
       "        vertical-align: middle;\n",
       "    }\n",
       "\n",
       "    .dataframe tbody tr th {\n",
       "        vertical-align: top;\n",
       "    }\n",
       "\n",
       "    .dataframe thead th {\n",
       "        text-align: right;\n",
       "    }\n",
       "</style>\n",
       "<table border=\"1\" class=\"dataframe\">\n",
       "  <thead>\n",
       "    <tr style=\"text-align: right;\">\n",
       "      <th></th>\n",
       "      <th>n</th>\n",
       "      <th>p</th>\n",
       "      <th>test stat</th>\n",
       "      <th>sig</th>\n",
       "    </tr>\n",
       "  </thead>\n",
       "  <tbody>\n",
       "    <tr>\n",
       "      <th>R</th>\n",
       "      <td>3847.0</td>\n",
       "      <td>0.000000e+00</td>\n",
       "      <td>4388.083702</td>\n",
       "      <td>True</td>\n",
       "    </tr>\n",
       "    <tr>\n",
       "      <th>PG-13</th>\n",
       "      <td>1740.0</td>\n",
       "      <td>0.000000e+00</td>\n",
       "      <td>1937.660661</td>\n",
       "      <td>True</td>\n",
       "    </tr>\n",
       "    <tr>\n",
       "      <th>PG</th>\n",
       "      <td>810.0</td>\n",
       "      <td>3.468316e-215</td>\n",
       "      <td>987.624252</td>\n",
       "      <td>True</td>\n",
       "    </tr>\n",
       "    <tr>\n",
       "      <th>G</th>\n",
       "      <td>268.0</td>\n",
       "      <td>1.150924e-78</td>\n",
       "      <td>358.922144</td>\n",
       "      <td>True</td>\n",
       "    </tr>\n",
       "    <tr>\n",
       "      <th>NR</th>\n",
       "      <td>2002.0</td>\n",
       "      <td>0.000000e+00</td>\n",
       "      <td>4711.370819</td>\n",
       "      <td>True</td>\n",
       "    </tr>\n",
       "    <tr>\n",
       "      <th>NC-17</th>\n",
       "      <td>96.0</td>\n",
       "      <td>4.801249e-35</td>\n",
       "      <td>158.043204</td>\n",
       "      <td>True</td>\n",
       "    </tr>\n",
       "  </tbody>\n",
       "</table>\n",
       "</div>"
      ],
      "text/plain": [
       "            n              p    test stat   sig\n",
       "R      3847.0   0.000000e+00  4388.083702  True\n",
       "PG-13  1740.0   0.000000e+00  1937.660661  True\n",
       "PG      810.0  3.468316e-215   987.624252  True\n",
       "G       268.0   1.150924e-78   358.922144  True\n",
       "NR     2002.0   0.000000e+00  4711.370819  True\n",
       "NC-17    96.0   4.801249e-35   158.043204  True"
      ]
     },
     "execution_count": 22,
     "metadata": {},
     "output_type": "execute_result"
    }
   ],
   "source": [
    "### checking sig with pandas \n",
    "norm_results_df['sig'] = norm_results_df['p'] < .05 \n",
    "norm_results_df"
   ]
  },
  {
   "cell_type": "code",
   "execution_count": 23,
   "id": "ac99162a-a276-47a7-8635-4df93e1c92e3",
   "metadata": {},
   "outputs": [
    {
     "data": {
      "text/plain": [
       "F_onewayResult(statistic=100.42765897680043, pvalue=2.6071314563025825e-103)"
      ]
     },
     "execution_count": 23,
     "metadata": {},
     "output_type": "execute_result"
    }
   ],
   "source": [
    "# perform the correct hypothesis test\n",
    "result = stats.f_oneway( *groups.values())\n",
    "result"
   ]
  },
  {
   "cell_type": "markdown",
   "id": "50416412-bdbe-4f7d-a803-b31a31b0a6af",
   "metadata": {},
   "source": [
    "### With ANOVA giving us a significant result, we can use tukey to perform comparison tests for each group"
   ]
  },
  {
   "cell_type": "code",
   "execution_count": 24,
   "id": "c368b469-abfb-4b82-90c1-f33b0ab078d2",
   "metadata": {},
   "outputs": [],
   "source": [
    "from statsmodels.stats.multicomp import pairwise_tukeyhsd\n",
    "## save the values as kg_lost and the labels to the Diet\n",
    "values = nn['revenue']\n",
    "labels = nn['certification']"
   ]
  },
  {
   "cell_type": "code",
   "execution_count": 25,
   "id": "97345df6-2cae-4537-9f94-6e43f8f29cd0",
   "metadata": {},
   "outputs": [
    {
     "data": {
      "text/html": [
       "<table class=\"simpletable\">\n",
       "<caption>Multiple Comparison of Means - Tukey HSD, FWER=0.05</caption>\n",
       "<tr>\n",
       "  <th>group1</th> <th>group2</th>    <th>meandiff</th>     <th>p-adj</th>      <th>lower</th>          <th>upper</th>     <th>reject</th>\n",
       "</tr>\n",
       "<tr>\n",
       "     <td>G</td>    <td>NC-17</td> <td>-31040379.4672</td> <td>0.0677</td> <td>-63329345.4062</td>  <td>1248586.4718</td>   <td>False</td>\n",
       "</tr>\n",
       "<tr>\n",
       "     <td>G</td>     <td>NR</td>   <td>-29403662.3974</td>   <td>0.0</td>   <td>-47060785.855</td> <td>-11746538.9399</td>  <td>True</td> \n",
       "</tr>\n",
       "<tr>\n",
       "     <td>G</td>     <td>PG</td>    <td>30051638.4909</td> <td>0.0001</td>  <td>10922036.5738</td>  <td>49181240.4081</td>  <td>True</td> \n",
       "</tr>\n",
       "<tr>\n",
       "     <td>G</td>    <td>PG-13</td>  <td>24522753.773</td>  <td>0.0012</td>   <td>6709375.448</td>   <td>42336132.098</td>   <td>True</td> \n",
       "</tr>\n",
       "<tr>\n",
       "     <td>G</td>      <td>R</td>   <td>-20025803.0999</td> <td>0.0113</td> <td>-37175754.2833</td>  <td>-2875851.9164</td>  <td>True</td> \n",
       "</tr>\n",
       "<tr>\n",
       "   <td>NC-17</td>   <td>NR</td>    <td>1636717.0698</td>    <td>1.0</td>  <td>-26725589.5253</td>  <td>29999023.6649</td>  <td>False</td>\n",
       "</tr>\n",
       "<tr>\n",
       "   <td>NC-17</td>   <td>PG</td>    <td>61092017.9581</td>   <td>0.0</td>   <td>31790344.0109</td>  <td>90393691.9053</td>  <td>True</td> \n",
       "</tr>\n",
       "<tr>\n",
       "   <td>NC-17</td>  <td>PG-13</td>  <td>55563133.2402</td>   <td>0.0</td>   <td>27103286.5444</td>  <td>84022979.936</td>   <td>True</td> \n",
       "</tr>\n",
       "<tr>\n",
       "   <td>NC-17</td>    <td>R</td>    <td>11014576.3673</td> <td>0.8736</td> <td>-17034795.3225</td>  <td>39063948.0572</td>  <td>False</td>\n",
       "</tr>\n",
       "<tr>\n",
       "    <td>NR</td>     <td>PG</td>    <td>59455300.8883</td>   <td>0.0</td>   <td>48151107.7064</td>  <td>70759494.0703</td>  <td>True</td> \n",
       "</tr>\n",
       "<tr>\n",
       "    <td>NR</td>    <td>PG-13</td>  <td>53926416.1704</td>   <td>0.0</td>   <td>45029250.2545</td>  <td>62823582.0863</td>  <td>True</td> \n",
       "</tr>\n",
       "<tr>\n",
       "    <td>NR</td>      <td>R</td>    <td>9377859.2976</td>  <td>0.0048</td>    <td>1896954.3</td>    <td>16858764.2952</td>  <td>True</td> \n",
       "</tr>\n",
       "<tr>\n",
       "    <td>PG</td>    <td>PG-13</td>  <td>-5528884.7179</td> <td>0.7482</td> <td>-17075625.4723</td>  <td>6017856.0365</td>   <td>False</td>\n",
       "</tr>\n",
       "<tr>\n",
       "    <td>PG</td>      <td>R</td>   <td>-50077441.5908</td>   <td>0.0</td>  <td>-60571801.9951</td> <td>-39583081.1864</td>  <td>True</td> \n",
       "</tr>\n",
       "<tr>\n",
       "   <td>PG-13</td>    <td>R</td>   <td>-44548556.8728</td>   <td>0.0</td>  <td>-52391157.0881</td> <td>-36705956.6575</td>  <td>True</td> \n",
       "</tr>\n",
       "</table>"
      ],
      "text/latex": [
       "\\begin{center}\n",
       "\\begin{tabular}{ccccccc}\n",
       "\\toprule\n",
       "\\textbf{group1} & \\textbf{group2} & \\textbf{meandiff} & \\textbf{p-adj} & \\textbf{lower} & \\textbf{upper} & \\textbf{reject}  \\\\\n",
       "\\midrule\n",
       "       G        &      NC-17      &   -31040379.4672  &     0.0677     & -63329345.4062 &  1248586.4718  &      False       \\\\\n",
       "       G        &        NR       &   -29403662.3974  &      0.0       & -47060785.855  & -11746538.9399 &       True       \\\\\n",
       "       G        &        PG       &   30051638.4909   &     0.0001     & 10922036.5738  & 49181240.4081  &       True       \\\\\n",
       "       G        &      PG-13      &    24522753.773   &     0.0012     &  6709375.448   &  42336132.098  &       True       \\\\\n",
       "       G        &        R        &   -20025803.0999  &     0.0113     & -37175754.2833 & -2875851.9164  &       True       \\\\\n",
       "     NC-17      &        NR       &    1636717.0698   &      1.0       & -26725589.5253 & 29999023.6649  &      False       \\\\\n",
       "     NC-17      &        PG       &   61092017.9581   &      0.0       & 31790344.0109  & 90393691.9053  &       True       \\\\\n",
       "     NC-17      &      PG-13      &   55563133.2402   &      0.0       & 27103286.5444  &  84022979.936  &       True       \\\\\n",
       "     NC-17      &        R        &   11014576.3673   &     0.8736     & -17034795.3225 & 39063948.0572  &      False       \\\\\n",
       "       NR       &        PG       &   59455300.8883   &      0.0       & 48151107.7064  & 70759494.0703  &       True       \\\\\n",
       "       NR       &      PG-13      &   53926416.1704   &      0.0       & 45029250.2545  & 62823582.0863  &       True       \\\\\n",
       "       NR       &        R        &    9377859.2976   &     0.0048     &   1896954.3    & 16858764.2952  &       True       \\\\\n",
       "       PG       &      PG-13      &   -5528884.7179   &     0.7482     & -17075625.4723 &  6017856.0365  &      False       \\\\\n",
       "       PG       &        R        &   -50077441.5908  &      0.0       & -60571801.9951 & -39583081.1864 &       True       \\\\\n",
       "     PG-13      &        R        &   -44548556.8728  &      0.0       & -52391157.0881 & -36705956.6575 &       True       \\\\\n",
       "\\bottomrule\n",
       "\\end{tabular}\n",
       "%\\caption{Multiple Comparison of Means - Tukey HSD, FWER=0.05}\n",
       "\\end{center}"
      ],
      "text/plain": [
       "<class 'statsmodels.iolib.table.SimpleTable'>"
      ]
     },
     "execution_count": 25,
     "metadata": {},
     "output_type": "execute_result"
    }
   ],
   "source": [
    "## perform tukey's multiple comparison test and display the summary\n",
    "tukeys_results = pairwise_tukeyhsd(values,labels)\n",
    "tukeys_results.summary()"
   ]
  },
  {
   "cell_type": "code",
   "execution_count": 26,
   "id": "63c21706-3684-4b53-80ef-7c0c47cea286",
   "metadata": {},
   "outputs": [],
   "source": [
    "#"
   ]
  },
  {
   "cell_type": "markdown",
   "id": "841bdca8-8533-4e58-8a46-0bc85d515630",
   "metadata": {},
   "source": [
    "##### We can see several significant results between MPAA ratings like PG-13 outperforming R, PG, NR and G. \n",
    "##### Not Rated trends poorly against PG and PG-13. While NC-17 doesn't have good revenue, the differences are not considered significant"
   ]
  },
  {
   "cell_type": "markdown",
   "id": "1d9202ff-ffb3-4cdb-9112-64e564fa6271",
   "metadata": {},
   "source": [
    "2. Do movies that are over 2.5 hours long earn more revenue than movies that are 1.5 hours long (or less)?"
   ]
  },
  {
   "cell_type": "code",
   "execution_count": 27,
   "id": "dbd552c2-c63b-4663-aada-d2ba9203390f",
   "metadata": {},
   "outputs": [
    {
     "data": {
      "image/png": "[encoded data removed]",
      "text/plain": [
       "<Figure size 640x480 with 1 Axes>"
      ]
     },
     "metadata": {},
     "output_type": "display_data"
    }
   ],
   "source": [
    "# Visualizing revenue by runtime\n",
    "sns.scatterplot(df, x='runtime', y='revenue');"
   ]
  },
  {
   "cell_type": "code",
   "execution_count": 28,
   "id": "c2797c7e-907b-4f8a-9440-b036f9a80f54",
   "metadata": {},
   "outputs": [],
   "source": [
    "# Filtering films into dfs of long and short movies\n",
    "long_df = df.loc[df['runtime'] >= 150].copy()\n",
    "short_df = df.loc[df['runtime']<= 90].copy()"
   ]
  },
  {
   "cell_type": "code",
   "execution_count": 29,
   "id": "86747884-a712-4805-91b2-3ffbc73627f2",
   "metadata": {},
   "outputs": [],
   "source": [
    "# Now defining revenue dfs\n",
    "long_r = long_df['revenue']\n",
    "short_r = short_df['revenue']"
   ]
  },
  {
   "cell_type": "code",
   "execution_count": 30,
   "id": "711e0aa5-1d48-453d-ac4b-b3788fde1bb1",
   "metadata": {},
   "outputs": [
    {
     "data": {
      "text/plain": [
       "26"
      ]
     },
     "execution_count": 30,
     "metadata": {},
     "output_type": "execute_result"
    }
   ],
   "source": [
    "# Check for outliers in long film revenue\n",
    "zscores= stats.zscore(long_r)\n",
    "outliers = abs(zscores)>3\n",
    "np.sum(outliers)"
   ]
  },
  {
   "cell_type": "code",
   "execution_count": 31,
   "id": "698aebf0-f9ff-4087-92a0-fd380c161736",
   "metadata": {},
   "outputs": [],
   "source": [
    "# remove outliers from strength group\n",
    "long_r = long_r[(np.abs(stats.zscore(long_r)) < 3)]"
   ]
  },
  {
   "cell_type": "code",
   "execution_count": 32,
   "id": "666ddc3d-6ad2-4ef0-ab89-ca2745e5289a",
   "metadata": {},
   "outputs": [
    {
     "data": {
      "text/plain": [
       "26"
      ]
     },
     "execution_count": 32,
     "metadata": {},
     "output_type": "execute_result"
    }
   ],
   "source": [
    "# Checking same for short films\n",
    "zscores= stats.zscore(short_r)\n",
    "np.sum(outliers)"
   ]
  },
  {
   "cell_type": "code",
   "execution_count": 33,
   "id": "f5d46ab0-f2f4-4002-85f3-dba898aed80e",
   "metadata": {},
   "outputs": [],
   "source": [
    "# remove outliers\n",
    "short_r = short_r[(np.abs(stats.zscore(short_r)) < 3)]"
   ]
  },
  {
   "cell_type": "code",
   "execution_count": 34,
   "id": "68778884-19a0-4665-8bbb-43838f04b7fe",
   "metadata": {},
   "outputs": [
    {
     "data": {
      "text/plain": [
       "LeveneResult(statistic=597.9927308368573, pvalue=1.11554449364036e-129)"
      ]
     },
     "execution_count": 34,
     "metadata": {},
     "output_type": "execute_result"
    }
   ],
   "source": [
    "# Test for equal variance\n",
    "result = stats.levene(long_r, short_r)\n",
    "result"
   ]
  },
  {
   "cell_type": "code",
   "execution_count": 35,
   "id": "a968b835-d65b-43c2-a273-49b55126a206",
   "metadata": {},
   "outputs": [
    {
     "data": {
      "text/plain": [
       "Ttest_indResult(statistic=5.981205503574876, pvalue=3.2525599761601317e-09)"
      ]
     },
     "execution_count": 35,
     "metadata": {},
     "output_type": "execute_result"
    }
   ],
   "source": [
    "# Independent t-test with equal_var set to False\n",
    "result = stats.ttest_ind(long_r, short_r, equal_var = False)\n",
    "result"
   ]
  },
  {
   "cell_type": "markdown",
   "id": "535a318f-2426-4038-8c3f-238cce51cb34",
   "metadata": {},
   "source": [
    "##### With pvalue far less than 0.05 we have a significant result and can reject null"
   ]
  },
  {
   "cell_type": "markdown",
   "id": "efd3a69f-9a81-4433-b998-ec60f49fccdb",
   "metadata": {},
   "source": [
    "3. Do different certifications trend to different popularity numbers?"
   ]
  },
  {
   "cell_type": "code",
   "execution_count": 36,
   "id": "551751ed-90ad-4119-9197-a3644b9e2985",
   "metadata": {},
   "outputs": [
    {
     "data": {
      "image/png": "[encoded data removed]",
      "text/plain": [
       "<Figure size 640x480 with 1 Axes>"
      ]
     },
     "metadata": {},
     "output_type": "display_data"
    }
   ],
   "source": [
    "# Making barplot to get a glimpse at correlation\n",
    "sns.barplot(nn, x='certification', y='popularity');"
   ]
  },
  {
   "cell_type": "code",
   "execution_count": 37,
   "id": "6b909dbb-2a44-42b7-b726-c961bcbb7d54",
   "metadata": {},
   "outputs": [
    {
     "data": {
      "text/plain": [
       "dict_keys(['R', 'PG-13', 'PG', 'G', 'NR', 'NC-17'])"
      ]
     },
     "execution_count": 37,
     "metadata": {},
     "output_type": "execute_result"
    }
   ],
   "source": [
    "# There does seem to be correlations though how significant will have to be determined\n",
    "# It's another ANOVA problem with certifications so we can use our copied df to keep nulls out\n",
    "groups = {}\n",
    "## Loop through all unique categories\n",
    "for i in nn['certification'].unique():\n",
    "    ## Get series for group and rename\n",
    "    data = nn.loc[nn['certification']==i,'popularity'].copy()\n",
    "    \n",
    "    # save into the dictionary\n",
    "    groups[i] = data\n",
    "groups.keys()"
   ]
  },
  {
   "cell_type": "code",
   "execution_count": 38,
   "id": "07ea4b9a-52c7-4e83-8737-b4f223e54e4f",
   "metadata": {},
   "outputs": [
    {
     "data": {
      "text/html": [
       "<div>\n",
       "<style scoped>\n",
       "    .dataframe tbody tr th:only-of-type {\n",
       "        vertical-align: middle;\n",
       "    }\n",
       "\n",
       "    .dataframe tbody tr th {\n",
       "        vertical-align: top;\n",
       "    }\n",
       "\n",
       "    .dataframe thead th {\n",
       "        text-align: right;\n",
       "    }\n",
       "</style>\n",
       "<table border=\"1\" class=\"dataframe\">\n",
       "  <thead>\n",
       "    <tr style=\"text-align: right;\">\n",
       "      <th></th>\n",
       "      <th>n</th>\n",
       "      <th>p</th>\n",
       "      <th>test stat</th>\n",
       "    </tr>\n",
       "  </thead>\n",
       "  <tbody>\n",
       "    <tr>\n",
       "      <th>R</th>\n",
       "      <td>3847.0</td>\n",
       "      <td>0.000000e+00</td>\n",
       "      <td>6514.378671</td>\n",
       "    </tr>\n",
       "    <tr>\n",
       "      <th>PG-13</th>\n",
       "      <td>1740.0</td>\n",
       "      <td>0.000000e+00</td>\n",
       "      <td>1905.681809</td>\n",
       "    </tr>\n",
       "    <tr>\n",
       "      <th>PG</th>\n",
       "      <td>810.0</td>\n",
       "      <td>1.836815e-128</td>\n",
       "      <td>588.245717</td>\n",
       "    </tr>\n",
       "    <tr>\n",
       "      <th>G</th>\n",
       "      <td>268.0</td>\n",
       "      <td>2.743380e-44</td>\n",
       "      <td>200.609107</td>\n",
       "    </tr>\n",
       "    <tr>\n",
       "      <th>NR</th>\n",
       "      <td>2002.0</td>\n",
       "      <td>0.000000e+00</td>\n",
       "      <td>4817.679774</td>\n",
       "    </tr>\n",
       "    <tr>\n",
       "      <th>NC-17</th>\n",
       "      <td>96.0</td>\n",
       "      <td>8.191932e-29</td>\n",
       "      <td>129.343636</td>\n",
       "    </tr>\n",
       "  </tbody>\n",
       "</table>\n",
       "</div>"
      ],
      "text/plain": [
       "            n              p    test stat\n",
       "R      3847.0   0.000000e+00  6514.378671\n",
       "PG-13  1740.0   0.000000e+00  1905.681809\n",
       "PG      810.0  1.836815e-128   588.245717\n",
       "G       268.0   2.743380e-44   200.609107\n",
       "NR     2002.0   0.000000e+00  4817.679774\n",
       "NC-17    96.0   8.191932e-29   129.343636"
      ]
     },
     "execution_count": 38,
     "metadata": {},
     "output_type": "execute_result"
    }
   ],
   "source": [
    "## Running normal test on each group and confirming there are >20 in each group\n",
    "norm_results = {}\n",
    "for i, data in groups.items():\n",
    "    stat, p = stats.normaltest(data)\n",
    "    ## save the p val, test statistic, and the size of the group\n",
    "    norm_results[i] = {'n': len(data),\n",
    "                             'p':p,\n",
    "                             'test stat':stat,}\n",
    "## convert to a dataframe\n",
    "norm_results_df = pd.DataFrame(norm_results).T\n",
    "norm_results_df"
   ]
  },
  {
   "cell_type": "code",
   "execution_count": 39,
   "id": "5ec72bd9-fe2f-4554-b9f4-cbaf729530d3",
   "metadata": {},
   "outputs": [
    {
     "data": {
      "text/html": [
       "<div>\n",
       "<style scoped>\n",
       "    .dataframe tbody tr th:only-of-type {\n",
       "        vertical-align: middle;\n",
       "    }\n",
       "\n",
       "    .dataframe tbody tr th {\n",
       "        vertical-align: top;\n",
       "    }\n",
       "\n",
       "    .dataframe thead th {\n",
       "        text-align: right;\n",
       "    }\n",
       "</style>\n",
       "<table border=\"1\" class=\"dataframe\">\n",
       "  <thead>\n",
       "    <tr style=\"text-align: right;\">\n",
       "      <th></th>\n",
       "      <th>n</th>\n",
       "      <th>p</th>\n",
       "      <th>test stat</th>\n",
       "      <th>sig</th>\n",
       "    </tr>\n",
       "  </thead>\n",
       "  <tbody>\n",
       "    <tr>\n",
       "      <th>R</th>\n",
       "      <td>3847.0</td>\n",
       "      <td>0.000000e+00</td>\n",
       "      <td>6514.378671</td>\n",
       "      <td>True</td>\n",
       "    </tr>\n",
       "    <tr>\n",
       "      <th>PG-13</th>\n",
       "      <td>1740.0</td>\n",
       "      <td>0.000000e+00</td>\n",
       "      <td>1905.681809</td>\n",
       "      <td>True</td>\n",
       "    </tr>\n",
       "    <tr>\n",
       "      <th>PG</th>\n",
       "      <td>810.0</td>\n",
       "      <td>1.836815e-128</td>\n",
       "      <td>588.245717</td>\n",
       "      <td>True</td>\n",
       "    </tr>\n",
       "    <tr>\n",
       "      <th>G</th>\n",
       "      <td>268.0</td>\n",
       "      <td>2.743380e-44</td>\n",
       "      <td>200.609107</td>\n",
       "      <td>True</td>\n",
       "    </tr>\n",
       "    <tr>\n",
       "      <th>NR</th>\n",
       "      <td>2002.0</td>\n",
       "      <td>0.000000e+00</td>\n",
       "      <td>4817.679774</td>\n",
       "      <td>True</td>\n",
       "    </tr>\n",
       "    <tr>\n",
       "      <th>NC-17</th>\n",
       "      <td>96.0</td>\n",
       "      <td>8.191932e-29</td>\n",
       "      <td>129.343636</td>\n",
       "      <td>True</td>\n",
       "    </tr>\n",
       "  </tbody>\n",
       "</table>\n",
       "</div>"
      ],
      "text/plain": [
       "            n              p    test stat   sig\n",
       "R      3847.0   0.000000e+00  6514.378671  True\n",
       "PG-13  1740.0   0.000000e+00  1905.681809  True\n",
       "PG      810.0  1.836815e-128   588.245717  True\n",
       "G       268.0   2.743380e-44   200.609107  True\n",
       "NR     2002.0   0.000000e+00  4817.679774  True\n",
       "NC-17    96.0   8.191932e-29   129.343636  True"
      ]
     },
     "execution_count": 39,
     "metadata": {},
     "output_type": "execute_result"
    }
   ],
   "source": [
    "### checking sig with pandas \n",
    "norm_results_df['sig'] = norm_results_df['p'] < .05 \n",
    "norm_results_df"
   ]
  },
  {
   "cell_type": "code",
   "execution_count": 40,
   "id": "aeeb0269-e659-4ee0-afd1-b95f4f7a507c",
   "metadata": {},
   "outputs": [
    {
     "data": {
      "text/plain": [
       "F_onewayResult(statistic=90.98588278244189, pvalue=1.1900846997014189e-93)"
      ]
     },
     "execution_count": 40,
     "metadata": {},
     "output_type": "execute_result"
    }
   ],
   "source": [
    "# perform the correct hypothesis test\n",
    "result = stats.f_oneway( *groups.values())\n",
    "result"
   ]
  },
  {
   "cell_type": "code",
   "execution_count": 41,
   "id": "7bd7e400-0077-4b3e-a3b1-973b5a91cb2f",
   "metadata": {},
   "outputs": [],
   "source": [
    "# Definitely significant.\n",
    "values = nn['popularity']\n",
    "# labels is same as in first problem"
   ]
  },
  {
   "cell_type": "code",
   "execution_count": 42,
   "id": "351acefa-ced0-46ca-9b59-6dfc9cb6b1ea",
   "metadata": {},
   "outputs": [
    {
     "data": {
      "text/html": [
       "<table class=\"simpletable\">\n",
       "<caption>Multiple Comparison of Means - Tukey HSD, FWER=0.05</caption>\n",
       "<tr>\n",
       "  <th>group1</th> <th>group2</th> <th>meandiff</th>  <th>p-adj</th>   <th>lower</th>   <th>upper</th>  <th>reject</th>\n",
       "</tr>\n",
       "<tr>\n",
       "     <td>G</td>    <td>NC-17</td> <td>-11.8817</td> <td>0.0035</td> <td>-21.1486</td> <td>-2.6148</td>  <td>True</td> \n",
       "</tr>\n",
       "<tr>\n",
       "     <td>G</td>     <td>NR</td>   <td>-11.1444</td>   <td>0.0</td>  <td>-16.2119</td> <td>-6.0768</td>  <td>True</td> \n",
       "</tr>\n",
       "<tr>\n",
       "     <td>G</td>     <td>PG</td>    <td>7.5518</td>  <td>0.0012</td>  <td>2.0616</td>  <td>13.0419</td>  <td>True</td> \n",
       "</tr>\n",
       "<tr>\n",
       "     <td>G</td>    <td>PG-13</td>  <td>5.1081</td>  <td>0.0503</td>  <td>-0.0043</td> <td>10.2205</td>  <td>False</td>\n",
       "</tr>\n",
       "<tr>\n",
       "     <td>G</td>      <td>R</td>    <td>-1.1896</td> <td>0.9832</td>  <td>-6.1117</td> <td>3.7324</td>   <td>False</td>\n",
       "</tr>\n",
       "<tr>\n",
       "   <td>NC-17</td>   <td>NR</td>    <td>0.7374</td>  <td>0.9998</td>  <td>-7.4026</td> <td>8.8773</td>   <td>False</td>\n",
       "</tr>\n",
       "<tr>\n",
       "   <td>NC-17</td>   <td>PG</td>    <td>19.4335</td>   <td>0.0</td>   <td>11.0239</td> <td>27.843</td>   <td>True</td> \n",
       "</tr>\n",
       "<tr>\n",
       "   <td>NC-17</td>  <td>PG-13</td>  <td>16.9898</td>   <td>0.0</td>   <td>8.8219</td>  <td>25.1577</td>  <td>True</td> \n",
       "</tr>\n",
       "<tr>\n",
       "   <td>NC-17</td>    <td>R</td>    <td>10.6921</td> <td>0.0021</td>   <td>2.642</td>  <td>18.7422</td>  <td>True</td> \n",
       "</tr>\n",
       "<tr>\n",
       "    <td>NR</td>     <td>PG</td>    <td>18.6961</td>   <td>0.0</td>   <td>15.4518</td> <td>21.9404</td>  <td>True</td> \n",
       "</tr>\n",
       "<tr>\n",
       "    <td>NR</td>    <td>PG-13</td>  <td>16.2524</td>   <td>0.0</td>   <td>13.699</td>  <td>18.8059</td>  <td>True</td> \n",
       "</tr>\n",
       "<tr>\n",
       "    <td>NR</td>      <td>R</td>    <td>9.9547</td>    <td>0.0</td>   <td>7.8077</td>  <td>12.1017</td>  <td>True</td> \n",
       "</tr>\n",
       "<tr>\n",
       "    <td>PG</td>    <td>PG-13</td>  <td>-2.4437</td> <td>0.2863</td>  <td>-5.7576</td> <td>0.8702</td>   <td>False</td>\n",
       "</tr>\n",
       "<tr>\n",
       "    <td>PG</td>      <td>R</td>    <td>-8.7414</td>   <td>0.0</td>  <td>-11.7533</td> <td>-5.7295</td>  <td>True</td> \n",
       "</tr>\n",
       "<tr>\n",
       "   <td>PG-13</td>    <td>R</td>    <td>-6.2977</td>   <td>0.0</td>   <td>-8.5485</td> <td>-4.0469</td>  <td>True</td> \n",
       "</tr>\n",
       "</table>"
      ],
      "text/latex": [
       "\\begin{center}\n",
       "\\begin{tabular}{ccccccc}\n",
       "\\toprule\n",
       "\\textbf{group1} & \\textbf{group2} & \\textbf{meandiff} & \\textbf{p-adj} & \\textbf{lower} & \\textbf{upper} & \\textbf{reject}  \\\\\n",
       "\\midrule\n",
       "       G        &      NC-17      &      -11.8817     &     0.0035     &    -21.1486    &    -2.6148     &       True       \\\\\n",
       "       G        &        NR       &      -11.1444     &      0.0       &    -16.2119    &    -6.0768     &       True       \\\\\n",
       "       G        &        PG       &       7.5518      &     0.0012     &     2.0616     &    13.0419     &       True       \\\\\n",
       "       G        &      PG-13      &       5.1081      &     0.0503     &    -0.0043     &    10.2205     &      False       \\\\\n",
       "       G        &        R        &      -1.1896      &     0.9832     &    -6.1117     &     3.7324     &      False       \\\\\n",
       "     NC-17      &        NR       &       0.7374      &     0.9998     &    -7.4026     &     8.8773     &      False       \\\\\n",
       "     NC-17      &        PG       &      19.4335      &      0.0       &    11.0239     &     27.843     &       True       \\\\\n",
       "     NC-17      &      PG-13      &      16.9898      &      0.0       &     8.8219     &    25.1577     &       True       \\\\\n",
       "     NC-17      &        R        &      10.6921      &     0.0021     &     2.642      &    18.7422     &       True       \\\\\n",
       "       NR       &        PG       &      18.6961      &      0.0       &    15.4518     &    21.9404     &       True       \\\\\n",
       "       NR       &      PG-13      &      16.2524      &      0.0       &     13.699     &    18.8059     &       True       \\\\\n",
       "       NR       &        R        &       9.9547      &      0.0       &     7.8077     &    12.1017     &       True       \\\\\n",
       "       PG       &      PG-13      &      -2.4437      &     0.2863     &    -5.7576     &     0.8702     &      False       \\\\\n",
       "       PG       &        R        &      -8.7414      &      0.0       &    -11.7533    &    -5.7295     &       True       \\\\\n",
       "     PG-13      &        R        &      -6.2977      &      0.0       &    -8.5485     &    -4.0469     &       True       \\\\\n",
       "\\bottomrule\n",
       "\\end{tabular}\n",
       "%\\caption{Multiple Comparison of Means - Tukey HSD, FWER=0.05}\n",
       "\\end{center}"
      ],
      "text/plain": [
       "<class 'statsmodels.iolib.table.SimpleTable'>"
      ]
     },
     "execution_count": 42,
     "metadata": {},
     "output_type": "execute_result"
    }
   ],
   "source": [
    "## perform tukey's multiple comparison test and display the summary\n",
    "tukeys_results = pairwise_tukeyhsd(values,labels)\n",
    "tukeys_results.summary()"
   ]
  },
  {
   "cell_type": "markdown",
   "id": "8708e161-22c1-4830-99c7-dd0f5918752f",
   "metadata": {},
   "source": [
    "##### That's a lot to unpack. PG has a significant popularity boost over G, NC-17, and NR. PG-13 enjoys popularity over NC-17 and NR.\n",
    "##### G as a rating is in the middle and not significantly different except to PG. NC-17 and NR trend poorly, perhaps unsurprisingly."
   ]
  }
 ],
 "metadata": {
  "kernelspec": {
   "display_name": "Python 3 (ipykernel)",
   "language": "python",
   "name": "python3"
  },
  "language_info": {
   "codemirror_mode": {
    "name": "ipython",
    "version": 3
   },
   "file_extension": ".py",
   "mimetype": "text/x-python",
   "name": "python",
   "nbconvert_exporter": "python",
   "pygments_lexer": "ipython3",
   "version": "3.10.10"
  },
  "widgets": {
   "application/vnd.jupyter.widget-state+json": {
    "state": {
     "082e96f69e9740b987f8ddd90c175384": {
      "model_module": "@jupyter-widgets/base",
      "model_module_version": "2.0.0",
      "model_name": "LayoutModel",
      "state": {}
     },
     "0948e26cf5384245bca6e64ece89edc1": {
      "model_module": "@jupyter-widgets/base",
      "model_module_version": "2.0.0",
      "model_name": "LayoutModel",
      "state": {}
     },
     "110ff64421d847f3a2c02b0b9c90701d": {
      "model_module": "@jupyter-widgets/base",
      "model_module_version": "2.0.0",
      "model_name": "LayoutModel",
      "state": {}
     },
     "157f0c6644f14e3a9035b1bac8144e92": {
      "model_module": "@jupyter-widgets/base",
      "model_module_version": "2.0.0",
      "model_name": "LayoutModel",
      "state": {}
     },
     "16dc020e5f66473bad81bad939e30bce": {
      "model_module": "@jupyter-widgets/controls",
      "model_module_version": "2.0.0",
      "model_name": "HTMLStyleModel",
      "state": {
       "description_width": "",
       "font_size": null,
       "text_color": null
      }
     },
     "2aeb24d1a6404733babfe9c7b6f293e6": {
      "model_module": "@jupyter-widgets/controls",
      "model_module_version": "2.0.0",
      "model_name": "HTMLModel",
      "state": {
       "layout": "IPY_MODEL_4f9149ade50b4459936d0cf662624541",
       "style": "IPY_MODEL_6d92c4ec7a8e4d008d035e893a1cfe67",
       "value": "Movies from 2021: 100%"
      }
     },
     "2f09b6cece144b80b1d0d2fbad34dc13": {
      "model_module": "@jupyter-widgets/controls",
      "model_module_version": "2.0.0",
      "model_name": "FloatProgressModel",
      "state": {
       "bar_style": "success",
       "layout": "IPY_MODEL_bba14e81525341ed861b39443f6944bf",
       "max": 5073,
       "style": "IPY_MODEL_89da636ecdff4370a9ebd34ec4259e22",
       "value": 5073
      }
     },
     "30b773cc5d6f46e1ab370b6ad6064592": {
      "model_module": "@jupyter-widgets/controls",
      "model_module_version": "2.0.0",
      "model_name": "FloatProgressModel",
      "state": {
       "bar_style": "success",
       "layout": "IPY_MODEL_a23a9f905ee84fdb9ab822a2311b2c92",
       "max": 5010,
       "style": "IPY_MODEL_b5b72fb547474990849cee962b0aa1f5",
       "value": 5010
      }
     },
     "31e946b92b6348df83d951d2e24507ff": {
      "model_module": "@jupyter-widgets/controls",
      "model_module_version": "2.0.0",
      "model_name": "HTMLModel",
      "state": {
       "layout": "IPY_MODEL_b43682bbddac4fa78ca3098d659210c0",
       "style": "IPY_MODEL_f622088ba50c410fa0c68f04075b4226",
       "value": " 5163/5163 [35:17&lt;00:00,  2.32it/s]"
      }
     },
     "437f59d28efd444aa94648abcea46525": {
      "model_module": "@jupyter-widgets/controls",
      "model_module_version": "2.0.0",
      "model_name": "HTMLStyleModel",
      "state": {
       "description_width": "",
       "font_size": null,
       "text_color": null
      }
     },
     "46b2cee8d0ef4b52b2d2e6bf8d22a9a4": {
      "model_module": "@jupyter-widgets/controls",
      "model_module_version": "2.0.0",
      "model_name": "ProgressStyleModel",
      "state": {
       "description_width": ""
      }
     },
     "481ff2e048bc494abfeed4efa78e4739": {
      "model_module": "@jupyter-widgets/controls",
      "model_module_version": "2.0.0",
      "model_name": "HTMLStyleModel",
      "state": {
       "description_width": "",
       "font_size": null,
       "text_color": null
      }
     },
     "4a9fc70b83014314b5a14801429e40a7": {
      "model_module": "@jupyter-widgets/controls",
      "model_module_version": "2.0.0",
      "model_name": "HBoxModel",
      "state": {
       "children": [
        "IPY_MODEL_9b62207ee3094a158edef1711771dc67",
        "IPY_MODEL_2f09b6cece144b80b1d0d2fbad34dc13",
        "IPY_MODEL_76fd30f95b374b678149d47cd00811c0"
       ],
       "layout": "IPY_MODEL_082e96f69e9740b987f8ddd90c175384"
      }
     },
     "4f9149ade50b4459936d0cf662624541": {
      "model_module": "@jupyter-widgets/base",
      "model_module_version": "2.0.0",
      "model_name": "LayoutModel",
      "state": {}
     },
     "5b1a2ad9d9cd44ae86cd4c2c7610e09f": {
      "model_module": "@jupyter-widgets/controls",
      "model_module_version": "2.0.0",
      "model_name": "HBoxModel",
      "state": {
       "children": [
        "IPY_MODEL_2aeb24d1a6404733babfe9c7b6f293e6",
        "IPY_MODEL_d7174993073d4a0f8d56d7725bf22e3a",
        "IPY_MODEL_31e946b92b6348df83d951d2e24507ff"
       ],
       "layout": "IPY_MODEL_110ff64421d847f3a2c02b0b9c90701d"
      }
     },
     "5b6e1b51ff594354858353cdefe4358c": {
      "model_module": "@jupyter-widgets/base",
      "model_module_version": "2.0.0",
      "model_name": "LayoutModel",
      "state": {}
     },
     "5b962c1f326049e3855b2fc0eaea4b79": {
      "model_module": "@jupyter-widgets/base",
      "model_module_version": "2.0.0",
      "model_name": "LayoutModel",
      "state": {}
     },
     "607144f0d7294d7885ea7b182615c103": {
      "model_module": "@jupyter-widgets/controls",
      "model_module_version": "2.0.0",
      "model_name": "HTMLModel",
      "state": {
       "layout": "IPY_MODEL_7168d7e6266445a087d7d97c7fe804e9",
       "style": "IPY_MODEL_c819adf5bc6d4193a7191850c7e07f59",
       "value": " 3/3 [1:45:02&lt;00:00, 2089.74s/it]"
      }
     },
     "6d92c4ec7a8e4d008d035e893a1cfe67": {
      "model_module": "@jupyter-widgets/controls",
      "model_module_version": "2.0.0",
      "model_name": "HTMLStyleModel",
      "state": {
       "description_width": "",
       "font_size": null,
       "text_color": null
      }
     },
     "6e991dc24b564716ae1094590cc5aa40": {
      "model_module": "@jupyter-widgets/controls",
      "model_module_version": "2.0.0",
      "model_name": "FloatProgressModel",
      "state": {
       "bar_style": "success",
       "layout": "IPY_MODEL_6ef755cd3d294b47b16d47aa14cf9be7",
       "max": 3,
       "style": "IPY_MODEL_dae223df3b494dd1ab4c3699900669bd",
       "value": 3
      }
     },
     "6ef755cd3d294b47b16d47aa14cf9be7": {
      "model_module": "@jupyter-widgets/base",
      "model_module_version": "2.0.0",
      "model_name": "LayoutModel",
      "state": {}
     },
     "700a37b516d1413cb036965702a2864a": {
      "model_module": "@jupyter-widgets/controls",
      "model_module_version": "2.0.0",
      "model_name": "HTMLModel",
      "state": {
       "layout": "IPY_MODEL_5b962c1f326049e3855b2fc0eaea4b79",
       "style": "IPY_MODEL_437f59d28efd444aa94648abcea46525",
       "value": "YEARS: 100%"
      }
     },
     "7168d7e6266445a087d7d97c7fe804e9": {
      "model_module": "@jupyter-widgets/base",
      "model_module_version": "2.0.0",
      "model_name": "LayoutModel",
      "state": {}
     },
     "749e61549dde405aae0ab3d0391781ff": {
      "model_module": "@jupyter-widgets/base",
      "model_module_version": "2.0.0",
      "model_name": "LayoutModel",
      "state": {}
     },
     "76fd30f95b374b678149d47cd00811c0": {
      "model_module": "@jupyter-widgets/controls",
      "model_module_version": "2.0.0",
      "model_name": "HTMLModel",
      "state": {
       "layout": "IPY_MODEL_5b6e1b51ff594354858353cdefe4358c",
       "style": "IPY_MODEL_16dc020e5f66473bad81bad939e30bce",
       "value": " 5073/5073 [34:01&lt;00:00,  2.40it/s]"
      }
     },
     "81318aade2a241a9a2a6eb4bf3a07554": {
      "model_module": "@jupyter-widgets/controls",
      "model_module_version": "2.0.0",
      "model_name": "HTMLStyleModel",
      "state": {
       "description_width": "",
       "font_size": null,
       "text_color": null
      }
     },
     "816d31c3226c47e28827749f03baca6f": {
      "model_module": "@jupyter-widgets/controls",
      "model_module_version": "2.0.0",
      "model_name": "HBoxModel",
      "state": {
       "children": [
        "IPY_MODEL_700a37b516d1413cb036965702a2864a",
        "IPY_MODEL_6e991dc24b564716ae1094590cc5aa40",
        "IPY_MODEL_607144f0d7294d7885ea7b182615c103"
       ],
       "layout": "IPY_MODEL_f3ae9872d4fe49168d3141a750871b53"
      }
     },
     "81e7b47bbbdd411e887e6755f9dc8c9a": {
      "model_module": "@jupyter-widgets/controls",
      "model_module_version": "2.0.0",
      "model_name": "HBoxModel",
      "state": {
       "children": [
        "IPY_MODEL_df62991acaeb47efab46eb2ad95643a3",
        "IPY_MODEL_30b773cc5d6f46e1ab370b6ad6064592",
        "IPY_MODEL_a31db97704dd4115974fa470a90e04d7"
       ],
       "layout": "IPY_MODEL_0948e26cf5384245bca6e64ece89edc1"
      }
     },
     "8723e722fd994a6aa0843826a45806df": {
      "model_module": "@jupyter-widgets/controls",
      "model_module_version": "2.0.0",
      "model_name": "HTMLStyleModel",
      "state": {
       "description_width": "",
       "font_size": null,
       "text_color": null
      }
     },
     "89da636ecdff4370a9ebd34ec4259e22": {
      "model_module": "@jupyter-widgets/controls",
      "model_module_version": "2.0.0",
      "model_name": "ProgressStyleModel",
      "state": {
       "description_width": ""
      }
     },
     "9b62207ee3094a158edef1711771dc67": {
      "model_module": "@jupyter-widgets/controls",
      "model_module_version": "2.0.0",
      "model_name": "HTMLModel",
      "state": {
       "layout": "IPY_MODEL_b178aa0dfd1143b38feafa7a4d55c836",
       "style": "IPY_MODEL_481ff2e048bc494abfeed4efa78e4739",
       "value": "Movies from 2022: 100%"
      }
     },
     "a23a9f905ee84fdb9ab822a2311b2c92": {
      "model_module": "@jupyter-widgets/base",
      "model_module_version": "2.0.0",
      "model_name": "LayoutModel",
      "state": {}
     },
     "a31db97704dd4115974fa470a90e04d7": {
      "model_module": "@jupyter-widgets/controls",
      "model_module_version": "2.0.0",
      "model_name": "HTMLModel",
      "state": {
       "layout": "IPY_MODEL_157f0c6644f14e3a9035b1bac8144e92",
       "style": "IPY_MODEL_8723e722fd994a6aa0843826a45806df",
       "value": " 5010/5010 [35:33&lt;00:00,  2.26it/s]"
      }
     },
     "b178aa0dfd1143b38feafa7a4d55c836": {
      "model_module": "@jupyter-widgets/base",
      "model_module_version": "2.0.0",
      "model_name": "LayoutModel",
      "state": {}
     },
     "b43682bbddac4fa78ca3098d659210c0": {
      "model_module": "@jupyter-widgets/base",
      "model_module_version": "2.0.0",
      "model_name": "LayoutModel",
      "state": {}
     },
     "b5b72fb547474990849cee962b0aa1f5": {
      "model_module": "@jupyter-widgets/controls",
      "model_module_version": "2.0.0",
      "model_name": "ProgressStyleModel",
      "state": {
       "description_width": ""
      }
     },
     "bba14e81525341ed861b39443f6944bf": {
      "model_module": "@jupyter-widgets/base",
      "model_module_version": "2.0.0",
      "model_name": "LayoutModel",
      "state": {}
     },
     "c819adf5bc6d4193a7191850c7e07f59": {
      "model_module": "@jupyter-widgets/controls",
      "model_module_version": "2.0.0",
      "model_name": "HTMLStyleModel",
      "state": {
       "description_width": "",
       "font_size": null,
       "text_color": null
      }
     },
     "d7174993073d4a0f8d56d7725bf22e3a": {
      "model_module": "@jupyter-widgets/controls",
      "model_module_version": "2.0.0",
      "model_name": "FloatProgressModel",
      "state": {
       "bar_style": "success",
       "layout": "IPY_MODEL_749e61549dde405aae0ab3d0391781ff",
       "max": 5163,
       "style": "IPY_MODEL_46b2cee8d0ef4b52b2d2e6bf8d22a9a4",
       "value": 5163
      }
     },
     "dae223df3b494dd1ab4c3699900669bd": {
      "model_module": "@jupyter-widgets/controls",
      "model_module_version": "2.0.0",
      "model_name": "ProgressStyleModel",
      "state": {
       "description_width": ""
      }
     },
     "df62991acaeb47efab46eb2ad95643a3": {
      "model_module": "@jupyter-widgets/controls",
      "model_module_version": "2.0.0",
      "model_name": "HTMLModel",
      "state": {
       "layout": "IPY_MODEL_fa99e6fe353f402b872ce4e954545c72",
       "style": "IPY_MODEL_81318aade2a241a9a2a6eb4bf3a07554",
       "value": "Movies from 2020: 100%"
      }
     },
     "f3ae9872d4fe49168d3141a750871b53": {
      "model_module": "@jupyter-widgets/base",
      "model_module_version": "2.0.0",
      "model_name": "LayoutModel",
      "state": {}
     },
     "f622088ba50c410fa0c68f04075b4226": {
      "model_module": "@jupyter-widgets/controls",
      "model_module_version": "2.0.0",
      "model_name": "HTMLStyleModel",
      "state": {
       "description_width": "",
       "font_size": null,
       "text_color": null
      }
     },
     "fa99e6fe353f402b872ce4e954545c72": {
      "model_module": "@jupyter-widgets/base",
      "model_module_version": "2.0.0",
      "model_name": "LayoutModel",
      "state": {}
     }
    },
    "version_major": 2,
    "version_minor": 0
   }
  }
 },
 "nbformat": 4,
 "nbformat_minor": 5
}
